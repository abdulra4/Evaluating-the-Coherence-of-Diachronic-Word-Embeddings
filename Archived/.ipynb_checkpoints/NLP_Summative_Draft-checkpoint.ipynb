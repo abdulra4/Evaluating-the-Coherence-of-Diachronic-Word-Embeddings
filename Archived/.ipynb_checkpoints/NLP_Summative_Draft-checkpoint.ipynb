{
 "cells": [
  {
   "cell_type": "markdown",
   "metadata": {},
   "source": [
    "# __Evolution of Common Law: A Diachronic Word Embedding Analysis__"
   ]
  },
  {
   "cell_type": "markdown",
   "metadata": {},
   "source": [
    "The aim of this project is to see how civil rights law specifically on equal rights and bodily rights have evolved over time. Using this we can have a normative discussion around the unknown biases in interpretation. Given that word embeddings attempt to reflect the similarities in words, we start to see the associations made by users. These are not without their weaknesses but they give us a starting point to assess the judiciaries hidden biases."
   ]
  },
  {
   "cell_type": "markdown",
   "metadata": {},
   "source": [
    "## __1) Wrangling__"
   ]
  },
  {
   "cell_type": "code",
   "execution_count": 1,
   "metadata": {},
   "outputs": [],
   "source": [
    "import os, os.path, pickle\n",
    "import string, copy, itertools\n",
    "\n",
    "import numpy as np\n",
    "import pandas as pd\n",
    "\n",
    "import warnings\n",
    "warnings.filterwarnings(\"ignore\", category=DeprecationWarning)"
   ]
  },
  {
   "cell_type": "code",
   "execution_count": 2,
   "metadata": {},
   "outputs": [
    {
     "name": "stdout",
     "output_type": "stream",
     "text": [
      "{'id': 1561, 'name': 'Carpenter v. South Dakota et al.', 'name_abbreviation': 'Carpenter v. South Dakota', 'decision_date': '1977-05-23', 'docket_number': 'No. 76-6301', 'first_page': '931', 'last_page': '931', 'citations': [{'type': 'official', 'cite': '431 U.S. 931'}], 'volume': {'volume_number': '431'}, 'reporter': {'full_name': 'United States Reports'}, 'court': {'id': 9009, 'name': 'Supreme Court of the United States', 'name_abbreviation': 'U.S.', 'jurisdiction_url': None, 'slug': 'us'}, 'jurisdiction': {'id': 39, 'slug': 'us', 'name': 'U.S.', 'name_long': 'United States', 'whitelisted': False}, 'casebody': {'status': 'ok', 'data': {'head_matter': 'No. 76-6301.\\nCarpenter v. South Dakota et al.', 'opinions': [{'author': None, 'text': 'C. A. 8th Cir. Certiorari denied.', 'type': 'majority'}], 'attorneys': [], 'parties': ['Carpenter v. South Dakota et al.'], 'judges': []}}}\n"
     ]
    }
   ],
   "source": [
    "# Loading pre-extracted Supreme Court files from pickle\n",
    "with open('scCases.pkl', 'rb') as f:\n",
    "    scData = pickle.load(f)\n",
    "\n",
    "print(scData[0])"
   ]
  },
  {
   "cell_type": "code",
   "execution_count": 4,
   "metadata": {},
   "outputs": [],
   "source": [
    "# Load and drop all information not required\n",
    "scDF = pd.DataFrame.from_dict(scData)\n",
    "scDF = scDF.drop(columns=['citations', 'court', 'first_page', 'id', \n",
    "                          'jurisdiction', 'last_page', 'name', 'reporter', 'volume'])\n",
    "\n",
    "# Cleaning docket numbers for potential merge\n",
    "scDF['docket_number'].replace(regex=True, inplace=True, to_replace=r'[No. ]',value=r'')\n",
    "scDF['docket_number'].replace(regex=True, inplace=True, to_replace=r'[;]',value=r',')\n",
    "\n",
    "# Flattening court opinions\n",
    "scDF['opinions'] = [scDF['casebody'][i]['data']['opinions'] for i in scDF.index]\n",
    "\n",
    "allOpinions = []\n",
    "opTypes = ['majority', 'dissent', 'concurrence', 'concurring-in-part-and-dissenting-in-part']\n",
    "for opinions in scDF['opinions']:\n",
    "    text = [opinion['text'] for opinion in opinions if opinion['type'] in opTypes]\n",
    "    allOpinions.append(text)\n",
    "    \n",
    "scDF['opinion_text'] = [' '.join(text) for text in allOpinions]"
   ]
  },
  {
   "cell_type": "code",
   "execution_count": 5,
   "metadata": {},
   "outputs": [
    {
     "data": {
      "text/html": [
       "<div>\n",
       "<style scoped>\n",
       "    .dataframe tbody tr th:only-of-type {\n",
       "        vertical-align: middle;\n",
       "    }\n",
       "\n",
       "    .dataframe tbody tr th {\n",
       "        vertical-align: top;\n",
       "    }\n",
       "\n",
       "    .dataframe thead th {\n",
       "        text-align: right;\n",
       "    }\n",
       "</style>\n",
       "<table border=\"1\" class=\"dataframe\">\n",
       "  <thead>\n",
       "    <tr style=\"text-align: right;\">\n",
       "      <th></th>\n",
       "      <th>decision_date</th>\n",
       "      <th>docket_number</th>\n",
       "      <th>name_abbreviation</th>\n",
       "      <th>opinion_text</th>\n",
       "      <th>year</th>\n",
       "    </tr>\n",
       "  </thead>\n",
       "  <tbody>\n",
       "    <tr>\n",
       "      <th>0</th>\n",
       "      <td>1977-05-23</td>\n",
       "      <td>76-6301</td>\n",
       "      <td>Carpenter v. South Dakota</td>\n",
       "      <td>court of appeal 8th circuit certiorari denied.</td>\n",
       "      <td>1977</td>\n",
       "    </tr>\n",
       "    <tr>\n",
       "      <th>1</th>\n",
       "      <td>1977-05-16</td>\n",
       "      <td>76-6150</td>\n",
       "      <td>Montecalvo v. United States</td>\n",
       "      <td>court of appeal 9th circuit certiorari denied.</td>\n",
       "      <td>1977</td>\n",
       "    </tr>\n",
       "    <tr>\n",
       "      <th>2</th>\n",
       "      <td>1977-05-31</td>\n",
       "      <td>76-333</td>\n",
       "      <td>United Air Lines, Inc. v. Evans</td>\n",
       "      <td>mr. justice stevens delivered the opinion of t...</td>\n",
       "      <td>1977</td>\n",
       "    </tr>\n",
       "    <tr>\n",
       "      <th>3</th>\n",
       "      <td>1977-05-02</td>\n",
       "      <td>76-6501</td>\n",
       "      <td>Spanier v. United States</td>\n",
       "      <td>court of appeal 9th circuit certiorari denied.</td>\n",
       "      <td>1977</td>\n",
       "    </tr>\n",
       "    <tr>\n",
       "      <th>4</th>\n",
       "      <td>1977-05-31</td>\n",
       "      <td>76-777</td>\n",
       "      <td>Connor v. Finch</td>\n",
       "      <td>mr. justice stewart delivered the opinion of t...</td>\n",
       "      <td>1977</td>\n",
       "    </tr>\n",
       "  </tbody>\n",
       "</table>\n",
       "</div>"
      ],
      "text/plain": [
       "  decision_date docket_number                name_abbreviation  \\\n",
       "0    1977-05-23       76-6301        Carpenter v. South Dakota   \n",
       "1    1977-05-16       76-6150      Montecalvo v. United States   \n",
       "2    1977-05-31        76-333  United Air Lines, Inc. v. Evans   \n",
       "3    1977-05-02       76-6501         Spanier v. United States   \n",
       "4    1977-05-31        76-777                  Connor v. Finch   \n",
       "\n",
       "                                        opinion_text  year  \n",
       "0     court of appeal 8th circuit certiorari denied.  1977  \n",
       "1     court of appeal 9th circuit certiorari denied.  1977  \n",
       "2  mr. justice stevens delivered the opinion of t...  1977  \n",
       "3     court of appeal 9th circuit certiorari denied.  1977  \n",
       "4  mr. justice stewart delivered the opinion of t...  1977  "
      ]
     },
     "execution_count": 5,
     "metadata": {},
     "output_type": "execute_result"
    }
   ],
   "source": [
    "# Drop uneccessary baggage \n",
    "scDF = scDF.drop(columns=['casebody', 'opinions'])\n",
    "scDF = scDF.drop_duplicates()\n",
    "\n",
    "# Correct data object type and adding year column\n",
    "scDF['decision_date'] = pd.to_datetime(scDF['decision_date'])\n",
    "scDF['year'] = scDF['decision_date'].dt.year\n",
    "\n",
    "# Cleaning opinions\n",
    "scDF['opinion_text'] = scDF['opinion_text'].map(lambda x: x.lower())\n",
    "scDF['opinion_text'] = scDF['opinion_text'].map(lambda x: x.replace('•', ''))\n",
    "scDF['opinion_text'] = scDF['opinion_text'].map(lambda x: x.replace('—', ''))\n",
    "scDF['opinion_text'] = scDF['opinion_text'].map(lambda x: x.replace('■', ''))\n",
    "scDF['opinion_text'] = scDF['opinion_text'].map(lambda x: x.replace('§', 'section')) \n",
    "scDF['opinion_text'] = scDF['opinion_text'].map(lambda x: x.replace('\\n', ' ')) \n",
    "scDF['opinion_text'] = scDF['opinion_text'].map(lambda x: x.replace('  ', ' '))\n",
    "scDF['opinion_text'] = scDF['opinion_text'].map(lambda x: x.replace(' u. s. ', 'us')) \n",
    "scDF['opinion_text'] = scDF['opinion_text'].map(lambda x: x.replace(' u.s. ', 'us')) \n",
    "scDF['opinion_text'] = scDF['opinion_text'].map(lambda x: x.replace(' v. ', 'v')) \n",
    "scDF['opinion_text'] = scDF['opinion_text'].map(lambda x: x.replace(' f. supp. ', 'fsupp'))\n",
    "scDF['opinion_text'] = scDF['opinion_text'].map(lambda x: x.replace(' u. s. c. ', 'usc'))\n",
    "scDF['opinion_text'] = scDF['opinion_text'].map(lambda x: x.replace('cir.', 'circuit'))\n",
    "scDF['opinion_text'] = scDF['opinion_text'].map(lambda x: x.replace('c. a.', 'court of appeal'))\n",
    "scDF['opinion_text'] = scDF['opinion_text'].map(lambda x: x.replace('ct.', 'court'))\n",
    "scDF['opinion_text'] = scDF['opinion_text'].map(lambda x: x.replace('app.', 'appeal'))\n",
    "scDF['opinion_text'] = scDF['opinion_text'].map(lambda x: x.replace('dist.', 'district'))\n",
    "\n",
    "# scDF['opinion_text'] = scDF['opinion_text'].map(lambda x: x.translate(str.maketrans('', '', string.punctuation)))\n",
    "# scDF['text_count'] = scDF['opinion_text'].apply(lambda x: len(x))\n",
    "\n",
    "scDF.head()"
   ]
  },
  {
   "cell_type": "markdown",
   "metadata": {},
   "source": [
    "## __2) Descriptive Statistics__"
   ]
  },
  {
   "cell_type": "markdown",
   "metadata": {},
   "source": [
    "First, let's see what the word distribution looks like. This will require filtering out stopwords to ensure that we get an accurate depiction of the vocabulary."
   ]
  },
  {
   "cell_type": "code",
   "execution_count": 6,
   "metadata": {},
   "outputs": [],
   "source": [
    "import gensim, nltk\n",
    "import seaborn, lucem_illud\n",
    "\n",
    "from ggplot import *\n",
    "import matplotlib.pyplot as plt\n",
    "\n",
    "from collections import Counter\n",
    "from sklearn.feature_extraction import stop_words\n",
    "\n",
    "%matplotlib inline"
   ]
  },
  {
   "cell_type": "code",
   "execution_count": 6,
   "metadata": {},
   "outputs": [],
   "source": [
    "def createDict(norm_text):\n",
    "    wordlist = [review.split(' ') for review in norm_text] \n",
    "    wordlist = [word for review in wordlist for word in review] \n",
    "    vocab_dict = Counter(wordlist) \n",
    "    for word in list(vocab_dict):\n",
    "        if word in stop_words.ENGLISH_STOP_WORDS or word=='' or word==\"\":\n",
    "            del vocab_dict[word]\n",
    "    return vocab_dict\n",
    "\n",
    "def meanLength(norm_text):\n",
    "    review_lengths = []\n",
    "    for review in norm_text:\n",
    "        review_lengths.append(len(review.split(' ')))\n",
    "    return sum(review_lengths)/len(review_lengths)"
   ]
  },
  {
   "cell_type": "code",
   "execution_count": 7,
   "metadata": {},
   "outputs": [
    {
     "name": "stdout",
     "output_type": "stream",
     "text": [
      "Number of unique words in opinions: 765860\n",
      "\n",
      "\n",
      "Most common words in opinions: [('court', 923947), ('state', 341488), ('section', 309012), ('case', 292250), ('denied', 290709), ('certiorari', 284682), ('states', 276479), ('circuit', 271352), ('act', 264871), ('appeal', 235198)]\n",
      "\n",
      "\n",
      "Average length of opinions: 331.2468897681745\n"
     ]
    }
   ],
   "source": [
    "scDict = createDict(scDF['opinion_text'])\n",
    "\n",
    "print('Number of unique words in opinions:', len(scDict))\n",
    "print('\\n')\n",
    "print('Most common words in opinions:', scDict.most_common(10))\n",
    "print('\\n')\n",
    "print('Average length of opinions:', meanLength(scDF.opinion_text))"
   ]
  },
  {
   "cell_type": "code",
   "execution_count": 20,
   "metadata": {},
   "outputs": [],
   "source": [
    "# Word distribution plots\n",
    "scwordsDF = pd.DataFrame(scDict, index=[0])\n",
    "scwordsDF = scwordsDF.T\n",
    "scwordsDF = scwordsDF.reset_index()\n",
    "scwordsDF.columns = ['word', 'count']\n",
    "\n",
    "# ggplot(aes(x='word'), data=scwordsDF) + geom_histogram()"
   ]
  },
  {
   "cell_type": "markdown",
   "metadata": {},
   "source": [
    "## __3) Static Word Emdeddings__"
   ]
  },
  {
   "cell_type": "code",
   "execution_count": 6,
   "metadata": {},
   "outputs": [],
   "source": [
    "import sklearn.metrics.pairwise\n",
    "import sklearn.manifold\n",
    "import sklearn.decomposition\n",
    "\n",
    "from scipy import sparse\n",
    "from scipy.sparse import linalg\n",
    "from sklearn.preprocessing import normalize\n",
    "from sklearn.metrics.pairwise import cosine_similarity"
   ]
  },
  {
   "cell_type": "markdown",
   "metadata": {},
   "source": [
    "### __Skip-Gram Negative Sampling__"
   ]
  },
  {
   "cell_type": "code",
   "execution_count": 42,
   "metadata": {},
   "outputs": [],
   "source": [
    "scW2V_SGNS = gensim.models.word2vec.Word2Vec(scDF['normalized_sents'].sum(), min_count=100, workers=12, sg=1)"
   ]
  },
  {
   "cell_type": "code",
   "execution_count": 44,
   "metadata": {},
   "outputs": [
    {
     "data": {
      "text/plain": [
       "[('intrusion', 0.727840006351471),\n",
       " ('intrusions', 0.7235182523727417),\n",
       " ('expectation', 0.6745550632476807),\n",
       " ('invasion', 0.6668987274169922),\n",
       " ('expectations', 0.6057010889053345),\n",
       " ('contents', 0.5966705083847046),\n",
       " ('searches', 0.5961085557937622),\n",
       " ('luggage', 0.5925958752632141),\n",
       " ('invaded', 0.5869956016540527),\n",
       " ('katzvunited', 0.5851855278015137)]"
      ]
     },
     "execution_count": 44,
     "metadata": {},
     "output_type": "execute_result"
    }
   ],
   "source": [
    "scW2V_SGNS.most_similar('privacy')"
   ]
  },
  {
   "cell_type": "markdown",
   "metadata": {},
   "source": [
    "### __Continuous Bag of Words__"
   ]
  },
  {
   "cell_type": "code",
   "execution_count": 10,
   "metadata": {},
   "outputs": [],
   "source": [
    "scW2V_CBOW = gensim.models.word2vec.Word2Vec(scDF['normalized_sents'].sum(), min_count=100, workers=12)"
   ]
  },
  {
   "cell_type": "code",
   "execution_count": 12,
   "metadata": {},
   "outputs": [
    {
     "data": {
      "text/plain": [
       "[('abortions', 0.6291376948356628),\n",
       " ('adult', 0.6078208088874817),\n",
       " ('infant', 0.6054587364196777),\n",
       " ('pregnancy', 0.5837625861167908),\n",
       " ('inmate', 0.578755259513855),\n",
       " ('optometrist', 0.5662745833396912),\n",
       " ('physician', 0.5561221837997437),\n",
       " ('unmarried', 0.551953911781311),\n",
       " ('surgery', 0.5517116785049438),\n",
       " ('illegitimate', 0.547306478023529)]"
      ]
     },
     "execution_count": 12,
     "metadata": {},
     "output_type": "execute_result"
    }
   ],
   "source": [
    "scW2V_CBOW.most_similar('abortion')"
   ]
  },
  {
   "cell_type": "code",
   "execution_count": 40,
   "metadata": {},
   "outputs": [],
   "source": [
    "# Saving for re-use\n",
    "scW2V_SGNS.save('scW2V_SGNS.model')\n",
    "scW2V_vectors = scW2V_SGNS.wv\n",
    "scW2V_vectors.save_word2vec_format('scW2V_vectors.txt', binary=False)\n",
    "\n",
    "# To convert word vectors into tsv file for projections (use code in terminal)\n",
    "# python -m gensim.scripts.word2vec2tensor -i 'scW2V_vectors.txt' -o 'sc_vectors'"
   ]
  },
  {
   "cell_type": "markdown",
   "metadata": {},
   "source": [
    "### __Diachronic Word Embeddings__"
   ]
  },
  {
   "cell_type": "code",
   "execution_count": 16,
   "metadata": {},
   "outputs": [
    {
     "name": "stderr",
     "output_type": "stream",
     "text": [
      "/Applications/anaconda3/envs/venv_thesis/lib/python3.6/site-packages/ipykernel_launcher.py:2: SettingWithCopyWarning: \n",
      "A value is trying to be set on a copy of a slice from a DataFrame.\n",
      "Try using .loc[row_indexer,col_indexer] = value instead\n",
      "\n",
      "See the caveats in the documentation: http://pandas.pydata.org/pandas-docs/stable/indexing.html#indexing-view-versus-copy\n",
      "  \n"
     ]
    },
    {
     "data": {
      "text/html": [
       "<div>\n",
       "<style scoped>\n",
       "    .dataframe tbody tr th:only-of-type {\n",
       "        vertical-align: middle;\n",
       "    }\n",
       "\n",
       "    .dataframe tbody tr th {\n",
       "        vertical-align: top;\n",
       "    }\n",
       "\n",
       "    .dataframe thead th {\n",
       "        text-align: right;\n",
       "    }\n",
       "</style>\n",
       "<table border=\"1\" class=\"dataframe\">\n",
       "  <thead>\n",
       "    <tr style=\"text-align: right;\">\n",
       "      <th></th>\n",
       "      <th>year</th>\n",
       "      <th>opinion_text</th>\n",
       "    </tr>\n",
       "  </thead>\n",
       "  <tbody>\n",
       "    <tr>\n",
       "      <th>0</th>\n",
       "      <td>1978</td>\n",
       "      <td>court of appeal 8th circuit certiorari denied....</td>\n",
       "    </tr>\n",
       "  </tbody>\n",
       "</table>\n",
       "</div>"
      ],
      "text/plain": [
       "   year                                       opinion_text\n",
       "0  1978  court of appeal 8th circuit certiorari denied...."
      ]
     },
     "execution_count": 16,
     "metadata": {},
     "output_type": "execute_result"
    }
   ],
   "source": [
    "# Grouping opinions into decades with a base (pre-1979). \n",
    "# To reduce the computationally expensive calculations we only use 5 decades\n",
    "\n",
    "scDF_base = scDF[scDF['year']<=1978]\n",
    "scDF_base['year'] = 1978\n",
    "scDF_base = scDF_base.groupby('year')['opinion_text'].apply(lambda x: '%s' % ' '.join(x))\n",
    "scDF_base = scDF_base.reset_index()\n",
    "\n",
    "scDF_88 = scDF[(scDF['year'] > 1978) & (scDF['year'] <= 1988)]\n",
    "scDF_88['year'] = 1988\n",
    "scDF_88 = scDF_88.groupby('year')['opinion_text'].apply(lambda x: '%s' % ' '.join(x))\n",
    "scDF_88 = scDF_88.reset_index()\n",
    "\n",
    "scDF_98 = scDF[(scDF['year'] > 1988) & (scDF['year'] <= 1998)]\n",
    "scDF_98['year'] = 1998\n",
    "scDF_98 = scDF_98.groupby('year')['opinion_text'].apply(lambda x: '%s' % ' '.join(x))\n",
    "scDF_98 = scDF_98.reset_index()\n",
    "\n",
    "scDF_08 = scDF[(scDF['year'] > 1998) & (scDF['year'] <= 2008)]\n",
    "scDF_08['year'] = 2008\n",
    "scDF_08 = scDF_08.groupby('year')['opinion_text'].apply(lambda x: '%s' % ' '.join(x))\n",
    "scDF_08 = scDF_08.reset_index()\n",
    "\n",
    "scDF_18 = scDF[(scDF['year'] > 2008) & (scDF['year'] <= 2018)]\n",
    "scDF_18['year'] = 2018\n",
    "scDF_18 = scDF_18.groupby('year')['opinion_text'].apply(lambda x: '%s' % ' '.join(x))\n",
    "scDF_18 = scDF_18.reset_index()\n",
    "\n",
    "# Concatenate the groups\n",
    "scDF_grouped = pd.concat([scDF_base, scDF_88, scDF_98, scDF_08, scDF_18], ignore_index=True)\n",
    "scDF_grouped.head()"
   ]
  },
  {
   "cell_type": "code",
   "execution_count": 95,
   "metadata": {},
   "outputs": [],
   "source": [
    "# Writing to file to save for future use.\n",
    "for year in scDF_grouped['year']:\n",
    "    with open('%s_cases.txt' % year, 'w') as file:\n",
    "        file.write(scDF_grouped['opinion_text'][year])"
   ]
  },
  {
   "cell_type": "code",
   "execution_count": 34,
   "metadata": {},
   "outputs": [],
   "source": [
    "# Tokenising words\n",
    "scDF_grouped['tokenized_sents'] = scDF_grouped['opinion_text'].apply(lambda x: [nltk.word_tokenize(s) for s in nltk.sent_tokenize(x)])\n",
    "scDF_grouped['normalized_sents'] = scDF_grouped['tokenized_sents'].apply(lambda x: [lucem_illud.normalizeTokens(s, \n",
    "                                                                                                stopwordLst = stop_words.ENGLISH_STOP_WORDS) for s in x])\n"
   ]
  },
  {
   "cell_type": "code",
   "execution_count": 46,
   "metadata": {},
   "outputs": [],
   "source": [
    "def calc_syn0norm(model):\n",
    "    \"\"\"since syn0norm is now depricated\"\"\"\n",
    "    return (model.wv.syn0 / np.sqrt((model.wv.syn0 ** 2).sum(-1))[..., np.newaxis]).astype(np.float32)\n",
    "\n",
    "def smart_procrustes_align_gensim(base_embed, other_embed, words=None):\n",
    "    \"\"\"Procrustes align two gensim word2vec models (to allow for comparison between same word across models).\n",
    "    Code ported from HistWords <https://github.com/williamleif/histwords> by William Hamilton <wleif@stanford.edu>.\n",
    "    (With help from William. Thank you!)\n",
    "    First, intersect the vocabularies (see `intersection_align_gensim` documentation).\n",
    "    Then do the alignment on the other_embed model.\n",
    "    Replace the other_embed model's syn0 and syn0norm numpy matrices with the aligned version.\n",
    "    Return other_embed.\n",
    "    If `words` is set, intersect the two models' vocabulary with the vocabulary in words (see `intersection_align_gensim` documentation).\n",
    "    \"\"\"\n",
    "    base_embed = copy.copy(base_embed)\n",
    "    other_embed = copy.copy(other_embed)\n",
    "    # make sure vocabulary and indices are aligned\n",
    "    in_base_embed, in_other_embed = intersection_align_gensim(base_embed, other_embed, words=words)\n",
    "\n",
    "    # get the embedding matrices\n",
    "    base_vecs = calc_syn0norm(in_base_embed)\n",
    "    other_vecs = calc_syn0norm(in_other_embed)\n",
    "\n",
    "    # just a matrix dot product with numpy\n",
    "    m = other_vecs.T.dot(base_vecs) \n",
    "    # SVD method from numpy\n",
    "    u, _, v = np.linalg.svd(m)\n",
    "    # another matrix operation\n",
    "    ortho = u.dot(v) \n",
    "    # Replace original array with modified one\n",
    "    # i.e. multiplying the embedding matrix (syn0norm)by \"ortho\"\n",
    "    other_embed.wv.syn0norm = other_embed.wv.syn0 = (calc_syn0norm(other_embed)).dot(ortho)\n",
    "    return other_embed\n",
    "    \n",
    "def intersection_align_gensim(m1,m2, words=None):\n",
    "    \"\"\"\n",
    "    Intersect two gensim word2vec models, m1 and m2.\n",
    "    Only the shared vocabulary between them is kept.\n",
    "    If 'words' is set (as list or set), then the vocabulary is intersected with this list as well.\n",
    "    Indices are re-organized from 0..N in order of descending frequency (=sum of counts from both m1 and m2).\n",
    "    These indices correspond to the new syn0 and syn0norm objects in both gensim models:\n",
    "        -- so that Row 0 of m1.syn0 will be for the same word as Row 0 of m2.syn0\n",
    "        -- you can find the index of any word on the .index2word list: model.index2word.index(word) => 2\n",
    "    The .vocab dictionary is also updated for each model, preserving the count but updating the index.\n",
    "    \"\"\"\n",
    "\n",
    "    # Get the vocab for each model\n",
    "    vocab_m1 = set(m1.wv.vocab.keys())\n",
    "    vocab_m2 = set(m2.wv.vocab.keys())\n",
    "\n",
    "    # Find the common vocabulary\n",
    "    common_vocab = vocab_m1&vocab_m2\n",
    "    if words: common_vocab&=set(words)\n",
    "\n",
    "    # If no alignment necessary because vocab is identical...\n",
    "    if not vocab_m1-common_vocab and not vocab_m2-common_vocab:\n",
    "        return (m1,m2)\n",
    "\n",
    "    # Otherwise sort by frequency (summed for both)\n",
    "    common_vocab = list(common_vocab)\n",
    "    common_vocab.sort(key=lambda w: m1.wv.vocab[w].count + m2.wv.vocab[w].count,reverse=True)\n",
    "\n",
    "    # Then for each model...\n",
    "    for m in [m1,m2]:\n",
    "        # Replace old syn0norm array with new one (with common vocab)\n",
    "        indices = [m.wv.vocab[w].index for w in common_vocab]\n",
    "        old_arr = calc_syn0norm(m)\n",
    "        new_arr = np.array([old_arr[index] for index in indices])\n",
    "        m.wv.syn0norm = m.wv.syn0 = new_arr\n",
    "\n",
    "        # Replace old vocab dictionary with new one (with common vocab)\n",
    "        # and old index2word with new one\n",
    "        m.index2word = common_vocab\n",
    "        old_vocab = m.wv.vocab\n",
    "        new_vocab = {}\n",
    "        for new_index,word in enumerate(common_vocab):\n",
    "            old_vocab_obj=old_vocab[word]\n",
    "            new_vocab[word] = gensim.models.word2vec.Vocab(index=new_index, count=old_vocab_obj.count)\n",
    "        m.wv.vocab = new_vocab\n",
    "\n",
    "    return (m1,m2)\n",
    "\n",
    "def compareModels(df, category, sort = True):\n",
    "    \"\"\"If you are using time as your category sorting is important\"\"\"\n",
    "    embeddings_raw = {}\n",
    "    cats = sorted(set(df[category]))\n",
    "    for cat in cats:\n",
    "        #This can take a while\n",
    "        print(\"Embedding {}\".format(cat), end = '\\r')\n",
    "        subsetDF = df[df[category] == cat]\n",
    "        #You might want to change the W2V parameters\n",
    "        embeddings_raw[cat] = gensim.models.word2vec.Word2Vec(subsetDF['normalized_sents'].sum(), min_count=0, workers=12)\n",
    "    #These are much quicker\n",
    "    embeddings_aligned = {}\n",
    "    for catOuter in cats:\n",
    "        embeddings_aligned[catOuter] = [embeddings_raw[catOuter]]\n",
    "        for catInner in cats:\n",
    "            embeddings_aligned[catOuter].append(smart_procrustes_align_gensim(embeddings_aligned[catOuter][-1], embeddings_raw[catInner]))\n",
    "    return embeddings_raw, embeddings_aligned"
   ]
  },
  {
   "cell_type": "code",
   "execution_count": 47,
   "metadata": {},
   "outputs": [
    {
     "name": "stdout",
     "output_type": "stream",
     "text": []
    },
    {
     "name": "stdout",
     "output_type": "stream",
     "text": []
    },
    {
     "name": "stdout",
     "output_type": "stream",
     "text": []
    },
    {
     "name": "stdout",
     "output_type": "stream",
     "text": []
    },
    {
     "name": "stdout",
     "output_type": "stream",
     "text": []
    },
    {
     "name": "stdout",
     "output_type": "stream",
     "text": []
    },
    {
     "name": "stdout",
     "output_type": "stream",
     "text": []
    },
    {
     "name": "stdout",
     "output_type": "stream",
     "text": []
    },
    {
     "name": "stdout",
     "output_type": "stream",
     "text": []
    },
    {
     "name": "stdout",
     "output_type": "stream",
     "text": []
    },
    {
     "name": "stdout",
     "output_type": "stream",
     "text": []
    },
    {
     "name": "stdout",
     "output_type": "stream",
     "text": []
    },
    {
     "name": "stdout",
     "output_type": "stream",
     "text": []
    },
    {
     "name": "stdout",
     "output_type": "stream",
     "text": []
    },
    {
     "name": "stdout",
     "output_type": "stream",
     "text": []
    },
    {
     "name": "stdout",
     "output_type": "stream",
     "text": []
    },
    {
     "name": "stdout",
     "output_type": "stream",
     "text": []
    },
    {
     "name": "stdout",
     "output_type": "stream",
     "text": []
    },
    {
     "name": "stdout",
     "output_type": "stream",
     "text": []
    }
   ],
   "source": [
    "rawEmbeddings, comparedEmbeddings = compareModels(scDF_grouped, 'year')"
   ]
  },
  {
   "cell_type": "code",
   "execution_count": 39,
   "metadata": {},
   "outputs": [],
   "source": [
    "def getDivergenceDF(word, embeddingsDict):\n",
    "    dists = []\n",
    "    cats = sorted(set(embeddingsDict.keys()))\n",
    "    dists = {}\n",
    "    for cat in cats:\n",
    "        dists[cat] = []\n",
    "        for embed in embeddingsDict[cat][1:]:\n",
    "            dists[cat].append(np.abs(1 - sklearn.metrics.pairwise.cosine_similarity(embeddingsDict[cat][0][word],\n",
    "                                                                             embed[word])[0,0]))\n",
    "    return pd.DataFrame(dists, index = cats)"
   ]
  },
  {
   "cell_type": "code",
   "execution_count": 52,
   "metadata": {},
   "outputs": [
    {
     "data": {
      "image/png": "[encoded data removed]",
      "text/plain": [
       "<Figure size 1440x1440 with 2 Axes>"
      ]
     },
     "metadata": {
      "needs_background": "light"
     },
     "output_type": "display_data"
    }
   ],
   "source": [
    "targetWord = 'property'\n",
    "\n",
    "pltDF = getDivergenceDF([targetWord], comparedEmbeddings)\n",
    "fig, ax = plt.subplots(figsize = (20, 20))\n",
    "seaborn.heatmap(pltDF, ax = ax, annot = False) #set annot True for a lot more information\n",
    "ax.set_xlabel(\"Starting year\")\n",
    "ax.set_ylabel(\"Final year\")\n",
    "ax.set_ylabel(\"Final year\")\n",
    "ax.set_title(\"Yearly linguistic change for: '{}'\".format(targetWord))\n",
    "plt.show()"
   ]
  },
  {
   "cell_type": "code",
   "execution_count": 48,
   "metadata": {},
   "outputs": [],
   "source": [
    "def findDiverence(word, embeddingsDict):\n",
    "    cats = sorted(set(embeddingsDict.keys()))\n",
    "    \n",
    "    dists = []\n",
    "    for embed in embeddingsDict[cats[0]][1:]:\n",
    "        dists.append(1 - sklearn.metrics.pairwise.cosine_similarity(embeddingsDict[cats[0]][0][[word]], embed[[word]])[0,0])\n",
    "    return sum(dists)\n",
    "\n",
    "def findMostDivergent(embeddingsDict):\n",
    "    words = []\n",
    "    for embeds in embeddingsDict.values():\n",
    "        for embed in embeds:\n",
    "            words += list(embed.wv.vocab.keys())\n",
    "    words = set(words)\n",
    "#     print(words)\n",
    "    print(\"Found {} words to compare\".format(len(words)))\n",
    "    return sorted([(w, findDiverence(w, embeddingsDict)) for w in words], key = lambda x: x[1], reverse=True)\n",
    "    "
   ]
  },
  {
   "cell_type": "code",
   "execution_count": 50,
   "metadata": {},
   "outputs": [
    {
     "name": "stdout",
     "output_type": "stream",
     "text": [
      "Found 501 words to compare\n"
     ]
    }
   ],
   "source": [
    "wordDivergences = findMostDivergent(comparedEmbeddings)"
   ]
  },
  {
   "cell_type": "code",
   "execution_count": 51,
   "metadata": {},
   "outputs": [
    {
     "data": {
      "text/plain": [
       "[('say', 23.154250843450427),\n",
       " ('iv', 22.825138304382563),\n",
       " ('bankruptcy', 22.669414235278964),\n",
       " ('circuit', 22.639058258384466),\n",
       " ('sct', 22.419764935970306),\n",
       " ('filed', 22.408066254109144),\n",
       " ('help', 22.18160173855722),\n",
       " ('business', 22.166532196104527),\n",
       " ('conclusion', 22.10390360560268),\n",
       " ('emphasis', 22.09901532717049)]"
      ]
     },
     "execution_count": 51,
     "metadata": {},
     "output_type": "execute_result"
    }
   ],
   "source": [
    "wordDivergences[:10]"
   ]
  },
  {
   "cell_type": "code",
   "execution_count": 52,
   "metadata": {},
   "outputs": [
    {
     "data": {
      "text/plain": [
       "[('cases', 12.103824034333229),\n",
       " ('united', 12.011044777929783),\n",
       " ('general', 11.864816844463348),\n",
       " ('n', 11.37393306940794),\n",
       " ('district', 11.366559978574514),\n",
       " ('supra', 10.613883927464485),\n",
       " ('action', 10.109953254461288),\n",
       " ('court', 8.469852924346924),\n",
       " ('s', 7.782974183559418),\n",
       " ('section', 7.548792839050293)]"
      ]
     },
     "execution_count": 52,
     "metadata": {},
     "output_type": "execute_result"
    }
   ],
   "source": [
    "wordDivergences[-10:]"
   ]
  },
  {
   "cell_type": "code",
   "execution_count": null,
   "metadata": {},
   "outputs": [],
   "source": []
  }
 ],
 "metadata": {
  "kernelspec": {
   "display_name": "Python 3",
   "language": "python",
   "name": "python3"
  },
  "language_info": {
   "codemirror_mode": {
    "name": "ipython",
    "version": 3
   },
   "file_extension": ".py",
   "mimetype": "text/x-python",
   "name": "python",
   "nbconvert_exporter": "python",
   "pygments_lexer": "ipython3",
   "version": "3.6.7"
  }
 },
 "nbformat": 4,
 "nbformat_minor": 2
}
