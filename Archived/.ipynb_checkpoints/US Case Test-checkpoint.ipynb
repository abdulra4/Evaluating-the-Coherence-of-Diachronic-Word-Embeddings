{
 "cells": [
  {
   "cell_type": "markdown",
   "metadata": {},
   "source": [
    "# United States Case Law Test"
   ]
  },
  {
   "cell_type": "markdown",
   "metadata": {},
   "source": [
    "## __Wrangling__"
   ]
  },
  {
   "cell_type": "code",
   "execution_count": 1,
   "metadata": {},
   "outputs": [],
   "source": [
    "from casewrangler import CaseWrangler\n",
    "import os, sys, pickle, string\n",
    "import pandas as pd\n",
    "import numpy as np\n",
    "\n",
    "import lucem_illud \n",
    "import gensim #For word2vec, etc\n",
    "import nltk #For stop words and stemmers\n",
    "from nltk.corpus import stopwords #For stopwords\n",
    "import sklearn.metrics.pairwise #For cosine similarity\n",
    "import sklearn.manifold #For T-SNE\n",
    "import sklearn.decomposition #For PCA\n",
    "\n",
    "import warnings\n",
    "warnings.filterwarnings(\"ignore\", category=DeprecationWarning) \n",
    "\n",
    "%matplotlib inline\n",
    "\n",
    "import os.path\n",
    "stop_words_nltk = stopwords.words('english')"
   ]
  },
  {
   "cell_type": "code",
   "execution_count": 2,
   "metadata": {},
   "outputs": [],
   "source": [
    "cw = CaseWrangler()\n",
    "\n",
    "usPath = os.path.abspath('United States-20181204-xml/data/data.jsonl.xz')\n",
    "usCorpus = os.path.abspath('United States-20181204-xml/corpus')\n",
    "usCases = cw.extractCases(usPath)"
   ]
  },
  {
   "cell_type": "code",
   "execution_count": 3,
   "metadata": {},
   "outputs": [],
   "source": [
    "scCases = []\n",
    "for case in usCases:\n",
    "    if case['court']['name'] == 'Supreme Court of the United States':\n",
    "        scCases.append(case)\n",
    "        \n",
    "scDF = pd.DataFrame.from_dict(scCases)\n",
    "scDF = scDF.drop(columns=['citations', 'court', 'first_page', 'id', 'jurisdiction', 'last_page', 'name', 'reporter', 'volume'])\n",
    "\n",
    "scDF['decision_date'] = pd.to_datetime(scDF['decision_date'])\n",
    "scDF['docket_number'].replace(regex=True, inplace=True, to_replace=r'[No. ]',value=r'')\n",
    "scDF['docket_number'].replace(regex=True, inplace=True, to_replace=r'[;]',value=r',')\n",
    "\n",
    "scDF['opinions'] = [scDF.casebody[i]['data']['opinions'] for i in scDF.index]\n",
    "scDF = scDF.drop(columns=['casebody'])"
   ]
  },
  {
   "cell_type": "code",
   "execution_count": 4,
   "metadata": {},
   "outputs": [],
   "source": [
    "allOpinions = []\n",
    "opTypes = ['majority', 'dissent', 'concurrence', 'concurring-in-part-and-dissenting-in-part']\n",
    "\n",
    "for opinions in scDF.opinions:\n",
    "    text = [opinion['text'] for opinion in opinions if opinion['type'] in opTypes]\n",
    "    allOpinions.append(text)\n",
    "    \n",
    "scDF['opinionText'] = allOpinions\n",
    "scDF['opinionText'] = [' '.join(text) for text in allOpinions]\n",
    "# scDF['length'] = scDF.opinionText.str.len()"
   ]
  },
  {
   "cell_type": "code",
   "execution_count": 7,
   "metadata": {},
   "outputs": [
    {
     "name": "stdout",
     "output_type": "stream",
     "text": [
      "<class 'pandas.core.frame.DataFrame'>\n",
      "Int64Index: 331443 entries, 0 to 331442\n",
      "Data columns (total 7 columns):\n",
      "decision_date        331443 non-null datetime64[ns]\n",
      "docket_number        331443 non-null object\n",
      "name_abbreviation    331443 non-null object\n",
      "opinions             331443 non-null object\n",
      "opinionText          331443 non-null object\n",
      "docket               331443 non-null object\n",
      "issueArea            327488 non-null float64\n",
      "dtypes: datetime64[ns](1), float64(1), object(5)\n",
      "memory usage: 20.2+ MB\n"
     ]
    }
   ],
   "source": [
    "scdbDF = pd.read_excel('SCDB_2018_02_caseCentered_Docket.xlsx')\n",
    "issueDF = scdbDF[['docket', 'issueArea']]\n",
    "scDF_issue = scDF.merge(issueDF, how='inner', left_on='docket_number', right_on='docket')\n",
    "scDF_issue.info()\n",
    "# civCases = caseDFmerged[caseDFmerged['issueArea'] == 2]\n",
    "# civCases.head()"
   ]
  },
  {
   "cell_type": "code",
   "execution_count": 8,
   "metadata": {},
   "outputs": [
    {
     "data": {
      "text/html": [
       "<div>\n",
       "<style scoped>\n",
       "    .dataframe tbody tr th:only-of-type {\n",
       "        vertical-align: middle;\n",
       "    }\n",
       "\n",
       "    .dataframe tbody tr th {\n",
       "        vertical-align: top;\n",
       "    }\n",
       "\n",
       "    .dataframe thead th {\n",
       "        text-align: right;\n",
       "    }\n",
       "</style>\n",
       "<table border=\"1\" class=\"dataframe\">\n",
       "  <thead>\n",
       "    <tr style=\"text-align: right;\">\n",
       "      <th></th>\n",
       "      <th>decision_date</th>\n",
       "      <th>docket_number</th>\n",
       "      <th>name_abbreviation</th>\n",
       "      <th>opinionText</th>\n",
       "      <th>issueArea</th>\n",
       "    </tr>\n",
       "  </thead>\n",
       "  <tbody>\n",
       "    <tr>\n",
       "      <th>0</th>\n",
       "      <td>1977-05-31</td>\n",
       "      <td>76-333</td>\n",
       "      <td>United Air Lines, Inc. v. Evans</td>\n",
       "      <td>Mr. Justice Stevens\\ndelivered the opinion of ...</td>\n",
       "      <td>2.0</td>\n",
       "    </tr>\n",
       "    <tr>\n",
       "      <th>1</th>\n",
       "      <td>1977-01-25</td>\n",
       "      <td>76-333</td>\n",
       "      <td>United Air Lines, Inc. v. Evans</td>\n",
       "      <td>C. A. 7th Cir. [Certiorari granted, ante, p. 9...</td>\n",
       "      <td>2.0</td>\n",
       "    </tr>\n",
       "    <tr>\n",
       "      <th>2</th>\n",
       "      <td>1977-01-17</td>\n",
       "      <td>76-333</td>\n",
       "      <td>United Air Lines, Inc. v. Evans</td>\n",
       "      <td>C. A. 7th Cir. [Certiorari granted, ante, p. 9...</td>\n",
       "      <td>2.0</td>\n",
       "    </tr>\n",
       "    <tr>\n",
       "      <th>3</th>\n",
       "      <td>1976-11-01</td>\n",
       "      <td>76-333</td>\n",
       "      <td>United Air Lines, Inc. v. Evans</td>\n",
       "      <td>C. A. 7th Cir. Certiorari granted.</td>\n",
       "      <td>2.0</td>\n",
       "    </tr>\n",
       "    <tr>\n",
       "      <th>4</th>\n",
       "      <td>1977-05-31</td>\n",
       "      <td>76-777</td>\n",
       "      <td>Connor v. Finch</td>\n",
       "      <td>Mr. Justice Stewart\\ndelivered the opinion of ...</td>\n",
       "      <td>2.0</td>\n",
       "    </tr>\n",
       "  </tbody>\n",
       "</table>\n",
       "</div>"
      ],
      "text/plain": [
       "  decision_date docket_number                name_abbreviation  \\\n",
       "0    1977-05-31        76-333  United Air Lines, Inc. v. Evans   \n",
       "1    1977-01-25        76-333  United Air Lines, Inc. v. Evans   \n",
       "2    1977-01-17        76-333  United Air Lines, Inc. v. Evans   \n",
       "3    1976-11-01        76-333  United Air Lines, Inc. v. Evans   \n",
       "4    1977-05-31        76-777                  Connor v. Finch   \n",
       "\n",
       "                                         opinionText  issueArea  \n",
       "0  Mr. Justice Stevens\\ndelivered the opinion of ...        2.0  \n",
       "1  C. A. 7th Cir. [Certiorari granted, ante, p. 9...        2.0  \n",
       "2  C. A. 7th Cir. [Certiorari granted, ante, p. 9...        2.0  \n",
       "3                 C. A. 7th Cir. Certiorari granted.        2.0  \n",
       "4  Mr. Justice Stewart\\ndelivered the opinion of ...        2.0  "
      ]
     },
     "execution_count": 8,
     "metadata": {},
     "output_type": "execute_result"
    }
   ],
   "source": [
    "scDF_issue = scDF_issue.drop(columns=['opinions', 'docket'])\n",
    "scDF_issue = scDF_issue.drop_duplicates()\n",
    "scDF_issue.head()"
   ]
  },
  {
   "cell_type": "markdown",
   "metadata": {},
   "source": [
    "## __Cleaning__"
   ]
  },
  {
   "cell_type": "code",
   "execution_count": 9,
   "metadata": {},
   "outputs": [
    {
     "data": {
      "text/html": [
       "<div>\n",
       "<style scoped>\n",
       "    .dataframe tbody tr th:only-of-type {\n",
       "        vertical-align: middle;\n",
       "    }\n",
       "\n",
       "    .dataframe tbody tr th {\n",
       "        vertical-align: top;\n",
       "    }\n",
       "\n",
       "    .dataframe thead th {\n",
       "        text-align: right;\n",
       "    }\n",
       "</style>\n",
       "<table border=\"1\" class=\"dataframe\">\n",
       "  <thead>\n",
       "    <tr style=\"text-align: right;\">\n",
       "      <th></th>\n",
       "      <th>decision_date</th>\n",
       "      <th>docket_number</th>\n",
       "      <th>name_abbreviation</th>\n",
       "      <th>opinionText</th>\n",
       "      <th>issueArea</th>\n",
       "    </tr>\n",
       "  </thead>\n",
       "  <tbody>\n",
       "    <tr>\n",
       "      <th>0</th>\n",
       "      <td>1977-05-31</td>\n",
       "      <td>76-333</td>\n",
       "      <td>United Air Lines, Inc. v. Evans</td>\n",
       "      <td>mr. justice stevens delivered the opinion of t...</td>\n",
       "      <td>2.0</td>\n",
       "    </tr>\n",
       "    <tr>\n",
       "      <th>1</th>\n",
       "      <td>1977-01-25</td>\n",
       "      <td>76-333</td>\n",
       "      <td>United Air Lines, Inc. v. Evans</td>\n",
       "      <td>c. a. 7th cir. certiorari granted, ante, p. 91...</td>\n",
       "      <td>2.0</td>\n",
       "    </tr>\n",
       "    <tr>\n",
       "      <th>2</th>\n",
       "      <td>1977-01-17</td>\n",
       "      <td>76-333</td>\n",
       "      <td>United Air Lines, Inc. v. Evans</td>\n",
       "      <td>c. a. 7th cir. certiorari granted, ante, p. 91...</td>\n",
       "      <td>2.0</td>\n",
       "    </tr>\n",
       "    <tr>\n",
       "      <th>3</th>\n",
       "      <td>1976-11-01</td>\n",
       "      <td>76-333</td>\n",
       "      <td>United Air Lines, Inc. v. Evans</td>\n",
       "      <td>c. a. 7th cir. certiorari granted.</td>\n",
       "      <td>2.0</td>\n",
       "    </tr>\n",
       "    <tr>\n",
       "      <th>4</th>\n",
       "      <td>1977-05-31</td>\n",
       "      <td>76-777</td>\n",
       "      <td>Connor v. Finch</td>\n",
       "      <td>mr. justice stewart delivered the opinion of t...</td>\n",
       "      <td>2.0</td>\n",
       "    </tr>\n",
       "  </tbody>\n",
       "</table>\n",
       "</div>"
      ],
      "text/plain": [
       "  decision_date docket_number                name_abbreviation  \\\n",
       "0    1977-05-31        76-333  United Air Lines, Inc. v. Evans   \n",
       "1    1977-01-25        76-333  United Air Lines, Inc. v. Evans   \n",
       "2    1977-01-17        76-333  United Air Lines, Inc. v. Evans   \n",
       "3    1976-11-01        76-333  United Air Lines, Inc. v. Evans   \n",
       "4    1977-05-31        76-777                  Connor v. Finch   \n",
       "\n",
       "                                         opinionText  issueArea  \n",
       "0  mr. justice stevens delivered the opinion of t...        2.0  \n",
       "1  c. a. 7th cir. certiorari granted, ante, p. 91...        2.0  \n",
       "2  c. a. 7th cir. certiorari granted, ante, p. 91...        2.0  \n",
       "3                 c. a. 7th cir. certiorari granted.        2.0  \n",
       "4  mr. justice stewart delivered the opinion of t...        2.0  "
      ]
     },
     "execution_count": 9,
     "metadata": {},
     "output_type": "execute_result"
    }
   ],
   "source": [
    "scDF_issue.opinionText = scDF_issue.opinionText.map(lambda x: x.lower())\n",
    "scDF_issue.opinionText = scDF_issue.opinionText.map(lambda x: x.replace('\\n', ' ')) \n",
    "scDF_issue.opinionText = scDF_issue.opinionText.map(lambda x: x.replace('§', 'section')) \n",
    "scDF_issue.opinionText = scDF_issue.opinionText.map(lambda x: x.replace('united states', 'u_s'))\n",
    "scDF_issue.opinionText = scDF_issue.opinionText.map(lambda x: x.replace(' u. s. ', '_u_s_')) \n",
    "scDF_issue.opinionText = scDF_issue.opinionText.map(lambda x: x.replace(' u.s. ', 'u_s')) \n",
    "scDF_issue.opinionText = scDF_issue.opinionText.map(lambda x: x.replace(' v. ', '_v_')) \n",
    "scDF_issue.opinionText = scDF_issue.opinionText.map(lambda x: x.replace(' f. supp. ', '_f_supp_')) \n",
    "scDF_issue.opinionText = scDF_issue.opinionText.map(lambda x: x.replace(' u. s. c. ', '_u_s_c_'))\n",
    "scDF_issue.opinionText = scDF_issue.opinionText.map(lambda x: x.replace('■', ''))\n",
    "scDF_issue.opinionText = scDF_issue.opinionText.map(lambda x: x.replace('  ', ' '))\n",
    "scDF_issue.opinionText = scDF_issue.opinionText.map(lambda x: x.translate(str.maketrans('', '', string.punctuation))) \n",
    "\n",
    "scDF_issue.head()"
   ]
  },
  {
   "cell_type": "code",
   "execution_count": 5,
   "metadata": {},
   "outputs": [
    {
     "data": {
      "text/html": [
       "<div>\n",
       "<style scoped>\n",
       "    .dataframe tbody tr th:only-of-type {\n",
       "        vertical-align: middle;\n",
       "    }\n",
       "\n",
       "    .dataframe tbody tr th {\n",
       "        vertical-align: top;\n",
       "    }\n",
       "\n",
       "    .dataframe thead th {\n",
       "        text-align: right;\n",
       "    }\n",
       "</style>\n",
       "<table border=\"1\" class=\"dataframe\">\n",
       "  <thead>\n",
       "    <tr style=\"text-align: right;\">\n",
       "      <th></th>\n",
       "      <th>decision_date</th>\n",
       "      <th>docket_number</th>\n",
       "      <th>name_abbreviation</th>\n",
       "      <th>opinionText</th>\n",
       "      <th>issueArea</th>\n",
       "    </tr>\n",
       "  </thead>\n",
       "  <tbody>\n",
       "    <tr>\n",
       "      <th>0</th>\n",
       "      <td>1977-05-31</td>\n",
       "      <td>76-333</td>\n",
       "      <td>United Air Lines, Inc. v. Evans</td>\n",
       "      <td>mr. justice stevens delivered the opinion of t...</td>\n",
       "      <td>2.0</td>\n",
       "    </tr>\n",
       "    <tr>\n",
       "      <th>1</th>\n",
       "      <td>1977-01-25</td>\n",
       "      <td>76-333</td>\n",
       "      <td>United Air Lines, Inc. v. Evans</td>\n",
       "      <td>c. a. 7th cir. certiorari granted, ante, p. 91...</td>\n",
       "      <td>2.0</td>\n",
       "    </tr>\n",
       "    <tr>\n",
       "      <th>2</th>\n",
       "      <td>1977-01-17</td>\n",
       "      <td>76-333</td>\n",
       "      <td>United Air Lines, Inc. v. Evans</td>\n",
       "      <td>c. a. 7th cir. certiorari granted, ante, p. 91...</td>\n",
       "      <td>2.0</td>\n",
       "    </tr>\n",
       "    <tr>\n",
       "      <th>3</th>\n",
       "      <td>1976-11-01</td>\n",
       "      <td>76-333</td>\n",
       "      <td>United Air Lines, Inc. v. Evans</td>\n",
       "      <td>c. a. 7th cir. certiorari granted.</td>\n",
       "      <td>2.0</td>\n",
       "    </tr>\n",
       "    <tr>\n",
       "      <th>4</th>\n",
       "      <td>1977-05-31</td>\n",
       "      <td>76-777</td>\n",
       "      <td>Connor v. Finch</td>\n",
       "      <td>mr. justice stewart delivered the opinion of t...</td>\n",
       "      <td>2.0</td>\n",
       "    </tr>\n",
       "  </tbody>\n",
       "</table>\n",
       "</div>"
      ],
      "text/plain": [
       "  decision_date docket_number                name_abbreviation  \\\n",
       "0    1977-05-31        76-333  United Air Lines, Inc. v. Evans   \n",
       "1    1977-01-25        76-333  United Air Lines, Inc. v. Evans   \n",
       "2    1977-01-17        76-333  United Air Lines, Inc. v. Evans   \n",
       "3    1976-11-01        76-333  United Air Lines, Inc. v. Evans   \n",
       "4    1977-05-31        76-777                  Connor v. Finch   \n",
       "\n",
       "                                         opinionText  issueArea  \n",
       "0  mr. justice stevens delivered the opinion of t...        2.0  \n",
       "1  c. a. 7th cir. certiorari granted, ante, p. 91...        2.0  \n",
       "2  c. a. 7th cir. certiorari granted, ante, p. 91...        2.0  \n",
       "3                 c. a. 7th cir. certiorari granted.        2.0  \n",
       "4  mr. justice stewart delivered the opinion of t...        2.0  "
      ]
     },
     "execution_count": 5,
     "metadata": {},
     "output_type": "execute_result"
    }
   ],
   "source": [
    "scDF_issue = pd.read_csv('scDF_by_issue.csv')\n",
    "scDF_issue.opinionText = scDF_issue.opinionText.astype(str)\n",
    "scDF_issue.head()"
   ]
  },
  {
   "cell_type": "code",
   "execution_count": 6,
   "metadata": {},
   "outputs": [
    {
     "data": {
      "text/html": [
       "<div>\n",
       "<style scoped>\n",
       "    .dataframe tbody tr th:only-of-type {\n",
       "        vertical-align: middle;\n",
       "    }\n",
       "\n",
       "    .dataframe tbody tr th {\n",
       "        vertical-align: top;\n",
       "    }\n",
       "\n",
       "    .dataframe thead th {\n",
       "        text-align: right;\n",
       "    }\n",
       "</style>\n",
       "<table border=\"1\" class=\"dataframe\">\n",
       "  <thead>\n",
       "    <tr style=\"text-align: right;\">\n",
       "      <th></th>\n",
       "      <th>decision_date</th>\n",
       "      <th>docket_number</th>\n",
       "      <th>name_abbreviation</th>\n",
       "      <th>opinionText</th>\n",
       "      <th>issueArea</th>\n",
       "    </tr>\n",
       "  </thead>\n",
       "  <tbody>\n",
       "    <tr>\n",
       "      <th>0</th>\n",
       "      <td>1977-05-31</td>\n",
       "      <td>76-333</td>\n",
       "      <td>United Air Lines, Inc. v. Evans</td>\n",
       "      <td>mr. justice stevens delivered the opinion of t...</td>\n",
       "      <td>2.0</td>\n",
       "    </tr>\n",
       "    <tr>\n",
       "      <th>1</th>\n",
       "      <td>1977-01-25</td>\n",
       "      <td>76-333</td>\n",
       "      <td>United Air Lines, Inc. v. Evans</td>\n",
       "      <td>court of appeal 7th circuit certiorari granted...</td>\n",
       "      <td>2.0</td>\n",
       "    </tr>\n",
       "    <tr>\n",
       "      <th>2</th>\n",
       "      <td>1977-01-17</td>\n",
       "      <td>76-333</td>\n",
       "      <td>United Air Lines, Inc. v. Evans</td>\n",
       "      <td>court of appeal 7th circuit certiorari granted...</td>\n",
       "      <td>2.0</td>\n",
       "    </tr>\n",
       "    <tr>\n",
       "      <th>3</th>\n",
       "      <td>1976-11-01</td>\n",
       "      <td>76-333</td>\n",
       "      <td>United Air Lines, Inc. v. Evans</td>\n",
       "      <td>court of appeal 7th circuit certiorari granted.</td>\n",
       "      <td>2.0</td>\n",
       "    </tr>\n",
       "    <tr>\n",
       "      <th>4</th>\n",
       "      <td>1977-05-31</td>\n",
       "      <td>76-777</td>\n",
       "      <td>Connor v. Finch</td>\n",
       "      <td>mr. justice stewart delivered the opinion of t...</td>\n",
       "      <td>2.0</td>\n",
       "    </tr>\n",
       "  </tbody>\n",
       "</table>\n",
       "</div>"
      ],
      "text/plain": [
       "  decision_date docket_number                name_abbreviation  \\\n",
       "0    1977-05-31        76-333  United Air Lines, Inc. v. Evans   \n",
       "1    1977-01-25        76-333  United Air Lines, Inc. v. Evans   \n",
       "2    1977-01-17        76-333  United Air Lines, Inc. v. Evans   \n",
       "3    1976-11-01        76-333  United Air Lines, Inc. v. Evans   \n",
       "4    1977-05-31        76-777                  Connor v. Finch   \n",
       "\n",
       "                                         opinionText  issueArea  \n",
       "0  mr. justice stevens delivered the opinion of t...        2.0  \n",
       "1  court of appeal 7th circuit certiorari granted...        2.0  \n",
       "2  court of appeal 7th circuit certiorari granted...        2.0  \n",
       "3    court of appeal 7th circuit certiorari granted.        2.0  \n",
       "4  mr. justice stewart delivered the opinion of t...        2.0  "
      ]
     },
     "execution_count": 6,
     "metadata": {},
     "output_type": "execute_result"
    }
   ],
   "source": [
    "scDF_issue.opinionText = scDF_issue.opinionText.map(lambda x: x.replace('  ', ' '))\n",
    "scDF_issue.opinionText = scDF_issue.opinionText.map(lambda x: x.replace('cir.', 'circuit'))\n",
    "scDF_issue.opinionText = scDF_issue.opinionText.map(lambda x: x.replace('c. a.', 'court of appeal'))\n",
    "scDF_issue.head()"
   ]
  },
  {
   "cell_type": "code",
   "execution_count": 7,
   "metadata": {},
   "outputs": [
    {
     "data": {
      "text/html": [
       "<div>\n",
       "<style scoped>\n",
       "    .dataframe tbody tr th:only-of-type {\n",
       "        vertical-align: middle;\n",
       "    }\n",
       "\n",
       "    .dataframe tbody tr th {\n",
       "        vertical-align: top;\n",
       "    }\n",
       "\n",
       "    .dataframe thead th {\n",
       "        text-align: right;\n",
       "    }\n",
       "</style>\n",
       "<table border=\"1\" class=\"dataframe\">\n",
       "  <thead>\n",
       "    <tr style=\"text-align: right;\">\n",
       "      <th></th>\n",
       "      <th>decision_date</th>\n",
       "      <th>docket_number</th>\n",
       "      <th>name_abbreviation</th>\n",
       "      <th>opinionText</th>\n",
       "      <th>issueArea</th>\n",
       "    </tr>\n",
       "  </thead>\n",
       "  <tbody>\n",
       "    <tr>\n",
       "      <th>0</th>\n",
       "      <td>1977-05-31</td>\n",
       "      <td>76-333</td>\n",
       "      <td>United Air Lines, Inc. v. Evans</td>\n",
       "      <td>mr justice stevens delivered the opinion of th...</td>\n",
       "      <td>2.0</td>\n",
       "    </tr>\n",
       "    <tr>\n",
       "      <th>1</th>\n",
       "      <td>1977-01-25</td>\n",
       "      <td>76-333</td>\n",
       "      <td>United Air Lines, Inc. v. Evans</td>\n",
       "      <td>court of appeal 7th circuit certiorari granted...</td>\n",
       "      <td>2.0</td>\n",
       "    </tr>\n",
       "    <tr>\n",
       "      <th>2</th>\n",
       "      <td>1977-01-17</td>\n",
       "      <td>76-333</td>\n",
       "      <td>United Air Lines, Inc. v. Evans</td>\n",
       "      <td>court of appeal 7th circuit certiorari granted...</td>\n",
       "      <td>2.0</td>\n",
       "    </tr>\n",
       "    <tr>\n",
       "      <th>3</th>\n",
       "      <td>1976-11-01</td>\n",
       "      <td>76-333</td>\n",
       "      <td>United Air Lines, Inc. v. Evans</td>\n",
       "      <td>court of appeal 7th circuit certiorari granted</td>\n",
       "      <td>2.0</td>\n",
       "    </tr>\n",
       "    <tr>\n",
       "      <th>4</th>\n",
       "      <td>1977-05-31</td>\n",
       "      <td>76-777</td>\n",
       "      <td>Connor v. Finch</td>\n",
       "      <td>mr justice stewart delivered the opinion of th...</td>\n",
       "      <td>2.0</td>\n",
       "    </tr>\n",
       "  </tbody>\n",
       "</table>\n",
       "</div>"
      ],
      "text/plain": [
       "  decision_date docket_number                name_abbreviation  \\\n",
       "0    1977-05-31        76-333  United Air Lines, Inc. v. Evans   \n",
       "1    1977-01-25        76-333  United Air Lines, Inc. v. Evans   \n",
       "2    1977-01-17        76-333  United Air Lines, Inc. v. Evans   \n",
       "3    1976-11-01        76-333  United Air Lines, Inc. v. Evans   \n",
       "4    1977-05-31        76-777                  Connor v. Finch   \n",
       "\n",
       "                                         opinionText  issueArea  \n",
       "0  mr justice stevens delivered the opinion of th...        2.0  \n",
       "1  court of appeal 7th circuit certiorari granted...        2.0  \n",
       "2  court of appeal 7th circuit certiorari granted...        2.0  \n",
       "3     court of appeal 7th circuit certiorari granted        2.0  \n",
       "4  mr justice stewart delivered the opinion of th...        2.0  "
      ]
     },
     "execution_count": 7,
     "metadata": {},
     "output_type": "execute_result"
    }
   ],
   "source": [
    "scDF_issue.opinionText = scDF_issue.opinionText.map(lambda x: x.translate(str.maketrans('', '', string.punctuation))) \n",
    "scDF_issue.head()"
   ]
  },
  {
   "cell_type": "code",
   "execution_count": 27,
   "metadata": {},
   "outputs": [],
   "source": [
    "#The stemmers and lemmers need to be initialized before being run\n",
    "porter = nltk.stem.porter.PorterStemmer()\n",
    "snowball = nltk.stem.snowball.SnowballStemmer('english')\n",
    "wordnet = nltk.stem.WordNetLemmatizer()\n",
    "\n",
    "def normlizeTokens(tokenLst, stopwordLst = None, stemmer = None, lemmer = None):\n",
    "    #We can use a generator here as we just need to iterate over it\n",
    "\n",
    "    #Lowering the case and removing non-words\n",
    "    workingIter = (tokenLst)\n",
    "\n",
    "    #Now we can use the semmer, if provided\n",
    "    if stemmer is not None:\n",
    "        workingIter = (stemmer.stem(w) for w in workingIter)\n",
    "        \n",
    "    #And the lemmer\n",
    "    if lemmer is not None:\n",
    "        workingIter = (lemmer.lemmatize(w) for w in workingIter)\n",
    "    \n",
    "    #And remove the stopwords\n",
    "    if stopwordLst is not None:\n",
    "        workingIter = (w for w in workingIter if w not in stopwordLst)\n",
    "    #We will return a list with the stopwords removed\n",
    "    return list(workingIter)"
   ]
  },
  {
   "cell_type": "code",
   "execution_count": 8,
   "metadata": {},
   "outputs": [
    {
     "data": {
      "text/html": [
       "<div>\n",
       "<style scoped>\n",
       "    .dataframe tbody tr th:only-of-type {\n",
       "        vertical-align: middle;\n",
       "    }\n",
       "\n",
       "    .dataframe tbody tr th {\n",
       "        vertical-align: top;\n",
       "    }\n",
       "\n",
       "    .dataframe thead th {\n",
       "        text-align: right;\n",
       "    }\n",
       "</style>\n",
       "<table border=\"1\" class=\"dataframe\">\n",
       "  <thead>\n",
       "    <tr style=\"text-align: right;\">\n",
       "      <th></th>\n",
       "      <th>decision_date</th>\n",
       "      <th>docket_number</th>\n",
       "      <th>name_abbreviation</th>\n",
       "      <th>opinionText</th>\n",
       "      <th>issueArea</th>\n",
       "      <th>tokenized_text</th>\n",
       "      <th>normalized_tokens</th>\n",
       "      <th>normalized_tokens_count</th>\n",
       "    </tr>\n",
       "  </thead>\n",
       "  <tbody>\n",
       "    <tr>\n",
       "      <th>0</th>\n",
       "      <td>1977-05-31</td>\n",
       "      <td>76-333</td>\n",
       "      <td>United Air Lines, Inc. v. Evans</td>\n",
       "      <td>mr justice stevens delivered the opinion of th...</td>\n",
       "      <td>2.0</td>\n",
       "      <td>[mr, justice, stevens, delivered, the, opinion...</td>\n",
       "      <td>[mr, justic, steven, deliv, opinion, court, re...</td>\n",
       "      <td>1804</td>\n",
       "    </tr>\n",
       "    <tr>\n",
       "      <th>1</th>\n",
       "      <td>1977-01-25</td>\n",
       "      <td>76-333</td>\n",
       "      <td>United Air Lines, Inc. v. Evans</td>\n",
       "      <td>c a 7th cir certiorari granted ante p 917 moti...</td>\n",
       "      <td>2.0</td>\n",
       "      <td>[c, a, 7th, cir, certiorari, granted, ante, p,...</td>\n",
       "      <td>[c, 7th, cir, certiorari, grant, ant, p, 917, ...</td>\n",
       "      <td>21</td>\n",
       "    </tr>\n",
       "    <tr>\n",
       "      <th>2</th>\n",
       "      <td>1977-01-17</td>\n",
       "      <td>76-333</td>\n",
       "      <td>United Air Lines, Inc. v. Evans</td>\n",
       "      <td>c a 7th cir certiorari granted ante p 917 moti...</td>\n",
       "      <td>2.0</td>\n",
       "      <td>[c, a, 7th, cir, certiorari, granted, ante, p,...</td>\n",
       "      <td>[c, 7th, cir, certiorari, grant, ant, p, 917, ...</td>\n",
       "      <td>55</td>\n",
       "    </tr>\n",
       "    <tr>\n",
       "      <th>3</th>\n",
       "      <td>1976-11-01</td>\n",
       "      <td>76-333</td>\n",
       "      <td>United Air Lines, Inc. v. Evans</td>\n",
       "      <td>c a 7th cir certiorari granted</td>\n",
       "      <td>2.0</td>\n",
       "      <td>[c, a, 7th, cir, certiorari, granted]</td>\n",
       "      <td>[c, 7th, cir, certiorari, grant]</td>\n",
       "      <td>5</td>\n",
       "    </tr>\n",
       "    <tr>\n",
       "      <th>4</th>\n",
       "      <td>1977-05-31</td>\n",
       "      <td>76-777</td>\n",
       "      <td>Connor v. Finch</td>\n",
       "      <td>mr justice stewart delivered the opinion of th...</td>\n",
       "      <td>2.0</td>\n",
       "      <td>[mr, justice, stewart, delivered, the, opinion...</td>\n",
       "      <td>[mr, justic, stewart, deliv, opinion, court, q...</td>\n",
       "      <td>4848</td>\n",
       "    </tr>\n",
       "  </tbody>\n",
       "</table>\n",
       "</div>"
      ],
      "text/plain": [
       "  decision_date docket_number                name_abbreviation  \\\n",
       "0    1977-05-31        76-333  United Air Lines, Inc. v. Evans   \n",
       "1    1977-01-25        76-333  United Air Lines, Inc. v. Evans   \n",
       "2    1977-01-17        76-333  United Air Lines, Inc. v. Evans   \n",
       "3    1976-11-01        76-333  United Air Lines, Inc. v. Evans   \n",
       "4    1977-05-31        76-777                  Connor v. Finch   \n",
       "\n",
       "                                         opinionText  issueArea  \\\n",
       "0  mr justice stevens delivered the opinion of th...        2.0   \n",
       "1  c a 7th cir certiorari granted ante p 917 moti...        2.0   \n",
       "2  c a 7th cir certiorari granted ante p 917 moti...        2.0   \n",
       "3                     c a 7th cir certiorari granted        2.0   \n",
       "4  mr justice stewart delivered the opinion of th...        2.0   \n",
       "\n",
       "                                      tokenized_text  \\\n",
       "0  [mr, justice, stevens, delivered, the, opinion...   \n",
       "1  [c, a, 7th, cir, certiorari, granted, ante, p,...   \n",
       "2  [c, a, 7th, cir, certiorari, granted, ante, p,...   \n",
       "3              [c, a, 7th, cir, certiorari, granted]   \n",
       "4  [mr, justice, stewart, delivered, the, opinion...   \n",
       "\n",
       "                                   normalized_tokens  normalized_tokens_count  \n",
       "0  [mr, justic, steven, deliv, opinion, court, re...                     1804  \n",
       "1  [c, 7th, cir, certiorari, grant, ant, p, 917, ...                       21  \n",
       "2  [c, 7th, cir, certiorari, grant, ant, p, 917, ...                       55  \n",
       "3                   [c, 7th, cir, certiorari, grant]                        5  \n",
       "4  [mr, justic, stewart, deliv, opinion, court, q...                     4848  "
      ]
     },
     "execution_count": 8,
     "metadata": {},
     "output_type": "execute_result"
    }
   ],
   "source": [
    "scDF_issue['tokenized_text'] = \\\n",
    "    scDF_issue['opinionText'].apply(lambda x: nltk.word_tokenize(str(x)))\n",
    "\n",
    "scDF_issue['normalized_tokens'] = \\\n",
    "    scDF_issue['tokenized_text'].apply(lambda x: normlizeTokens(x, \n",
    "                                                                stopwordLst = stop_words_nltk, \n",
    "                                                                stemmer = snowball))\n",
    "\n",
    "scDF_issue['normalized_tokens_count'] = scDF_issue['normalized_tokens'].apply(lambda x: len(x))\n",
    "scDF_issue.head()"
   ]
  },
  {
   "cell_type": "code",
   "execution_count": 8,
   "metadata": {},
   "outputs": [
    {
     "data": {
      "text/html": [
       "<div>\n",
       "<style scoped>\n",
       "    .dataframe tbody tr th:only-of-type {\n",
       "        vertical-align: middle;\n",
       "    }\n",
       "\n",
       "    .dataframe tbody tr th {\n",
       "        vertical-align: top;\n",
       "    }\n",
       "\n",
       "    .dataframe thead th {\n",
       "        text-align: right;\n",
       "    }\n",
       "</style>\n",
       "<table border=\"1\" class=\"dataframe\">\n",
       "  <thead>\n",
       "    <tr style=\"text-align: right;\">\n",
       "      <th></th>\n",
       "      <th>decision_date</th>\n",
       "      <th>docket_number</th>\n",
       "      <th>name_abbreviation</th>\n",
       "      <th>opinionText</th>\n",
       "      <th>issueArea</th>\n",
       "      <th>normalized_sents</th>\n",
       "      <th>normalized_sents_count</th>\n",
       "    </tr>\n",
       "  </thead>\n",
       "  <tbody>\n",
       "    <tr>\n",
       "      <th>0</th>\n",
       "      <td>1977-05-31</td>\n",
       "      <td>76-333</td>\n",
       "      <td>United Air Lines, Inc. v. Evans</td>\n",
       "      <td>mr justice stevens delivered the opinion of th...</td>\n",
       "      <td>2.0</td>\n",
       "      <td>[[mr, justice, stevens, delivered, the, opinio...</td>\n",
       "      <td>1</td>\n",
       "    </tr>\n",
       "    <tr>\n",
       "      <th>1</th>\n",
       "      <td>1977-01-25</td>\n",
       "      <td>76-333</td>\n",
       "      <td>United Air Lines, Inc. v. Evans</td>\n",
       "      <td>court of appeal 7th circuit certiorari granted...</td>\n",
       "      <td>2.0</td>\n",
       "      <td>[[court, of, appeal, 7th, circuit, certiorari,...</td>\n",
       "      <td>1</td>\n",
       "    </tr>\n",
       "    <tr>\n",
       "      <th>2</th>\n",
       "      <td>1977-01-17</td>\n",
       "      <td>76-333</td>\n",
       "      <td>United Air Lines, Inc. v. Evans</td>\n",
       "      <td>court of appeal 7th circuit certiorari granted...</td>\n",
       "      <td>2.0</td>\n",
       "      <td>[[court, of, appeal, 7th, circuit, certiorari,...</td>\n",
       "      <td>1</td>\n",
       "    </tr>\n",
       "    <tr>\n",
       "      <th>3</th>\n",
       "      <td>1976-11-01</td>\n",
       "      <td>76-333</td>\n",
       "      <td>United Air Lines, Inc. v. Evans</td>\n",
       "      <td>court of appeal 7th circuit certiorari granted</td>\n",
       "      <td>2.0</td>\n",
       "      <td>[[court, of, appeal, 7th, circuit, certiorari,...</td>\n",
       "      <td>1</td>\n",
       "    </tr>\n",
       "    <tr>\n",
       "      <th>4</th>\n",
       "      <td>1977-05-31</td>\n",
       "      <td>76-777</td>\n",
       "      <td>Connor v. Finch</td>\n",
       "      <td>mr justice stewart delivered the opinion of th...</td>\n",
       "      <td>2.0</td>\n",
       "      <td>[[mr, justice, stewart, delivered, the, opinio...</td>\n",
       "      <td>1</td>\n",
       "    </tr>\n",
       "  </tbody>\n",
       "</table>\n",
       "</div>"
      ],
      "text/plain": [
       "  decision_date docket_number                name_abbreviation  \\\n",
       "0    1977-05-31        76-333  United Air Lines, Inc. v. Evans   \n",
       "1    1977-01-25        76-333  United Air Lines, Inc. v. Evans   \n",
       "2    1977-01-17        76-333  United Air Lines, Inc. v. Evans   \n",
       "3    1976-11-01        76-333  United Air Lines, Inc. v. Evans   \n",
       "4    1977-05-31        76-777                  Connor v. Finch   \n",
       "\n",
       "                                         opinionText  issueArea  \\\n",
       "0  mr justice stevens delivered the opinion of th...        2.0   \n",
       "1  court of appeal 7th circuit certiorari granted...        2.0   \n",
       "2  court of appeal 7th circuit certiorari granted...        2.0   \n",
       "3     court of appeal 7th circuit certiorari granted        2.0   \n",
       "4  mr justice stewart delivered the opinion of th...        2.0   \n",
       "\n",
       "                                    normalized_sents  normalized_sents_count  \n",
       "0  [[mr, justice, stevens, delivered, the, opinio...                       1  \n",
       "1  [[court, of, appeal, 7th, circuit, certiorari,...                       1  \n",
       "2  [[court, of, appeal, 7th, circuit, certiorari,...                       1  \n",
       "3  [[court, of, appeal, 7th, circuit, certiorari,...                       1  \n",
       "4  [[mr, justice, stewart, delivered, the, opinio...                       1  "
      ]
     },
     "execution_count": 8,
     "metadata": {},
     "output_type": "execute_result"
    }
   ],
   "source": [
    "scDF_issue['normalized_sents'] = \\\n",
    "    scDF_issue['opinionText'].apply(lambda x: [nltk.word_tokenize(s) for s in nltk.sent_tokenize(x)])\n",
    "\n",
    "scDF_issue['normalized_sents_count'] = scDF_issue['normalized_sents'].apply(lambda x: len(x))\n",
    "scDF_issue.head()"
   ]
  },
  {
   "cell_type": "code",
   "execution_count": 9,
   "metadata": {},
   "outputs": [
    {
     "name": "stdout",
     "output_type": "stream",
     "text": [
      "<class 'pandas.core.frame.DataFrame'>\n",
      "RangeIndex: 204641 entries, 0 to 204640\n",
      "Data columns (total 7 columns):\n",
      "decision_date              204641 non-null datetime64[ns]\n",
      "docket_number              204641 non-null object\n",
      "name_abbreviation          204641 non-null object\n",
      "opinionText                204641 non-null object\n",
      "issueArea                  200870 non-null float64\n",
      "tokenized_text             204641 non-null object\n",
      "normalized_tokens_count    204641 non-null int64\n",
      "dtypes: datetime64[ns](1), float64(1), int64(1), object(4)\n",
      "memory usage: 10.9+ MB\n"
     ]
    }
   ],
   "source": [
    "scDF_issue_tokens = pd.read_csv('scDF_issue_normalised.csv')\n",
    "scDF_issue_tokens.decision_date = pd.to_datetime(scDF_issue_tokens.decision_date)\n",
    "scDF_issue_tokens.opinionText = scDF_issue_tokens.opinionText.astype(str)\n",
    "scDF_issue_tokens = scDF_issue_tokens.drop(columns=['normalized_tokens'])\n",
    "scDF_issue_tokens.info()"
   ]
  },
  {
   "cell_type": "code",
   "execution_count": 10,
   "metadata": {},
   "outputs": [
    {
     "data": {
      "text/html": [
       "<div>\n",
       "<style scoped>\n",
       "    .dataframe tbody tr th:only-of-type {\n",
       "        vertical-align: middle;\n",
       "    }\n",
       "\n",
       "    .dataframe tbody tr th {\n",
       "        vertical-align: top;\n",
       "    }\n",
       "\n",
       "    .dataframe thead th {\n",
       "        text-align: right;\n",
       "    }\n",
       "</style>\n",
       "<table border=\"1\" class=\"dataframe\">\n",
       "  <thead>\n",
       "    <tr style=\"text-align: right;\">\n",
       "      <th></th>\n",
       "      <th>decision_date</th>\n",
       "      <th>docket_number</th>\n",
       "      <th>name_abbreviation</th>\n",
       "      <th>opinionText</th>\n",
       "      <th>issueArea</th>\n",
       "      <th>tokenized_text</th>\n",
       "      <th>normalized_tokens_count</th>\n",
       "    </tr>\n",
       "  </thead>\n",
       "  <tbody>\n",
       "    <tr>\n",
       "      <th>0</th>\n",
       "      <td>1977-05-31</td>\n",
       "      <td>76-333</td>\n",
       "      <td>United Air Lines, Inc. v. Evans</td>\n",
       "      <td>mr justice stevens delivered the opinion of th...</td>\n",
       "      <td>2.0</td>\n",
       "      <td>['mr', 'justice', 'stevens', 'delivered', 'the...</td>\n",
       "      <td>1804</td>\n",
       "    </tr>\n",
       "    <tr>\n",
       "      <th>1</th>\n",
       "      <td>1977-01-25</td>\n",
       "      <td>76-333</td>\n",
       "      <td>United Air Lines, Inc. v. Evans</td>\n",
       "      <td>court of appeal 7th circuit certiorari granted...</td>\n",
       "      <td>2.0</td>\n",
       "      <td>['c', 'a', '7th', 'cir', 'certiorari', 'grante...</td>\n",
       "      <td>21</td>\n",
       "    </tr>\n",
       "    <tr>\n",
       "      <th>2</th>\n",
       "      <td>1977-01-17</td>\n",
       "      <td>76-333</td>\n",
       "      <td>United Air Lines, Inc. v. Evans</td>\n",
       "      <td>court of appeal 7th circuit certiorari granted...</td>\n",
       "      <td>2.0</td>\n",
       "      <td>['c', 'a', '7th', 'cir', 'certiorari', 'grante...</td>\n",
       "      <td>55</td>\n",
       "    </tr>\n",
       "    <tr>\n",
       "      <th>3</th>\n",
       "      <td>1976-11-01</td>\n",
       "      <td>76-333</td>\n",
       "      <td>United Air Lines, Inc. v. Evans</td>\n",
       "      <td>court of appeal 7th circuit certiorari granted</td>\n",
       "      <td>2.0</td>\n",
       "      <td>['c', 'a', '7th', 'cir', 'certiorari', 'granted']</td>\n",
       "      <td>5</td>\n",
       "    </tr>\n",
       "    <tr>\n",
       "      <th>4</th>\n",
       "      <td>1977-05-31</td>\n",
       "      <td>76-777</td>\n",
       "      <td>Connor v. Finch</td>\n",
       "      <td>mr justice stewart delivered the opinion of th...</td>\n",
       "      <td>2.0</td>\n",
       "      <td>['mr', 'justice', 'stewart', 'delivered', 'the...</td>\n",
       "      <td>4848</td>\n",
       "    </tr>\n",
       "  </tbody>\n",
       "</table>\n",
       "</div>"
      ],
      "text/plain": [
       "  decision_date docket_number                name_abbreviation  \\\n",
       "0    1977-05-31        76-333  United Air Lines, Inc. v. Evans   \n",
       "1    1977-01-25        76-333  United Air Lines, Inc. v. Evans   \n",
       "2    1977-01-17        76-333  United Air Lines, Inc. v. Evans   \n",
       "3    1976-11-01        76-333  United Air Lines, Inc. v. Evans   \n",
       "4    1977-05-31        76-777                  Connor v. Finch   \n",
       "\n",
       "                                         opinionText  issueArea  \\\n",
       "0  mr justice stevens delivered the opinion of th...        2.0   \n",
       "1  court of appeal 7th circuit certiorari granted...        2.0   \n",
       "2  court of appeal 7th circuit certiorari granted...        2.0   \n",
       "3     court of appeal 7th circuit certiorari granted        2.0   \n",
       "4  mr justice stewart delivered the opinion of th...        2.0   \n",
       "\n",
       "                                      tokenized_text  normalized_tokens_count  \n",
       "0  ['mr', 'justice', 'stevens', 'delivered', 'the...                     1804  \n",
       "1  ['c', 'a', '7th', 'cir', 'certiorari', 'grante...                       21  \n",
       "2  ['c', 'a', '7th', 'cir', 'certiorari', 'grante...                       55  \n",
       "3  ['c', 'a', '7th', 'cir', 'certiorari', 'granted']                        5  \n",
       "4  ['mr', 'justice', 'stewart', 'delivered', 'the...                     4848  "
      ]
     },
     "execution_count": 10,
     "metadata": {},
     "output_type": "execute_result"
    }
   ],
   "source": [
    "scDF_issue_tokens.opinionText = scDF_issue_tokens.opinionText.map(lambda x: x.replace('cir', 'circuit'))\n",
    "scDF_issue_tokens.opinionText = scDF_issue_tokens.opinionText.map(lambda x: x.replace('c a', 'court of appeal'))\n",
    "scDF_issue_tokens.head()"
   ]
  },
  {
   "cell_type": "code",
   "execution_count": 12,
   "metadata": {},
   "outputs": [
    {
     "data": {
      "text/html": [
       "<div>\n",
       "<style scoped>\n",
       "    .dataframe tbody tr th:only-of-type {\n",
       "        vertical-align: middle;\n",
       "    }\n",
       "\n",
       "    .dataframe tbody tr th {\n",
       "        vertical-align: top;\n",
       "    }\n",
       "\n",
       "    .dataframe thead th {\n",
       "        text-align: right;\n",
       "    }\n",
       "</style>\n",
       "<table border=\"1\" class=\"dataframe\">\n",
       "  <thead>\n",
       "    <tr style=\"text-align: right;\">\n",
       "      <th></th>\n",
       "      <th>decision_date</th>\n",
       "      <th>docket_number</th>\n",
       "      <th>name_abbreviation</th>\n",
       "      <th>opinionText</th>\n",
       "      <th>issueArea</th>\n",
       "      <th>tokenized_text</th>\n",
       "      <th>normalized_tokens_count</th>\n",
       "    </tr>\n",
       "  </thead>\n",
       "  <tbody>\n",
       "    <tr>\n",
       "      <th>0</th>\n",
       "      <td>1977-05-31</td>\n",
       "      <td>76-333</td>\n",
       "      <td>United Air Lines, Inc. v. Evans</td>\n",
       "      <td>mr justice stevens delivered the opinion of th...</td>\n",
       "      <td>2.0</td>\n",
       "      <td>['mr', 'justice', 'stevens', 'delivered', 'the...</td>\n",
       "      <td>1804</td>\n",
       "    </tr>\n",
       "    <tr>\n",
       "      <th>1</th>\n",
       "      <td>1977-01-25</td>\n",
       "      <td>76-333</td>\n",
       "      <td>United Air Lines, Inc. v. Evans</td>\n",
       "      <td>court of appeal 7th circuit certiorari granted...</td>\n",
       "      <td>2.0</td>\n",
       "      <td>['c', 'a', '7th', 'circuit', 'certiorari', 'gr...</td>\n",
       "      <td>21</td>\n",
       "    </tr>\n",
       "    <tr>\n",
       "      <th>2</th>\n",
       "      <td>1977-01-17</td>\n",
       "      <td>76-333</td>\n",
       "      <td>United Air Lines, Inc. v. Evans</td>\n",
       "      <td>court of appeal 7th circuit certiorari granted...</td>\n",
       "      <td>2.0</td>\n",
       "      <td>['c', 'a', '7th', 'circuit', 'certiorari', 'gr...</td>\n",
       "      <td>55</td>\n",
       "    </tr>\n",
       "    <tr>\n",
       "      <th>3</th>\n",
       "      <td>1976-11-01</td>\n",
       "      <td>76-333</td>\n",
       "      <td>United Air Lines, Inc. v. Evans</td>\n",
       "      <td>court of appeal 7th circuit certiorari granted</td>\n",
       "      <td>2.0</td>\n",
       "      <td>['c', 'a', '7th', 'circuit', 'certiorari', 'gr...</td>\n",
       "      <td>5</td>\n",
       "    </tr>\n",
       "    <tr>\n",
       "      <th>4</th>\n",
       "      <td>1977-05-31</td>\n",
       "      <td>76-777</td>\n",
       "      <td>Connor v. Finch</td>\n",
       "      <td>mr justice stewart delivered the opinion of th...</td>\n",
       "      <td>2.0</td>\n",
       "      <td>['mr', 'justice', 'stewart', 'delivered', 'the...</td>\n",
       "      <td>4848</td>\n",
       "    </tr>\n",
       "  </tbody>\n",
       "</table>\n",
       "</div>"
      ],
      "text/plain": [
       "  decision_date docket_number                name_abbreviation  \\\n",
       "0    1977-05-31        76-333  United Air Lines, Inc. v. Evans   \n",
       "1    1977-01-25        76-333  United Air Lines, Inc. v. Evans   \n",
       "2    1977-01-17        76-333  United Air Lines, Inc. v. Evans   \n",
       "3    1976-11-01        76-333  United Air Lines, Inc. v. Evans   \n",
       "4    1977-05-31        76-777                  Connor v. Finch   \n",
       "\n",
       "                                         opinionText  issueArea  \\\n",
       "0  mr justice stevens delivered the opinion of th...        2.0   \n",
       "1  court of appeal 7th circuit certiorari granted...        2.0   \n",
       "2  court of appeal 7th circuit certiorari granted...        2.0   \n",
       "3     court of appeal 7th circuit certiorari granted        2.0   \n",
       "4  mr justice stewart delivered the opinion of th...        2.0   \n",
       "\n",
       "                                      tokenized_text  normalized_tokens_count  \n",
       "0  ['mr', 'justice', 'stevens', 'delivered', 'the...                     1804  \n",
       "1  ['c', 'a', '7th', 'circuit', 'certiorari', 'gr...                       21  \n",
       "2  ['c', 'a', '7th', 'circuit', 'certiorari', 'gr...                       55  \n",
       "3  ['c', 'a', '7th', 'circuit', 'certiorari', 'gr...                        5  \n",
       "4  ['mr', 'justice', 'stewart', 'delivered', 'the...                     4848  "
      ]
     },
     "execution_count": 12,
     "metadata": {},
     "output_type": "execute_result"
    }
   ],
   "source": [
    "scDF_issue_tokens.tokenized_text = scDF_issue_tokens.tokenized_text.map(lambda x: x.replace('cir', 'circuit'))\n",
    "scDF_issue_tokens.head()"
   ]
  },
  {
   "cell_type": "code",
   "execution_count": 2,
   "metadata": {},
   "outputs": [
    {
     "name": "stdout",
     "output_type": "stream",
     "text": [
      "<class 'pandas.core.frame.DataFrame'>\n",
      "RangeIndex: 204641 entries, 0 to 204640\n",
      "Data columns (total 7 columns):\n",
      "decision_date             204641 non-null object\n",
      "docket_number             204641 non-null object\n",
      "name_abbreviation         204641 non-null object\n",
      "opinionText               204641 non-null object\n",
      "issueArea                 200870 non-null float64\n",
      "normalized_sents          204641 non-null object\n",
      "normalized_sents_count    204641 non-null int64\n",
      "dtypes: float64(1), int64(1), object(5)\n",
      "memory usage: 10.9+ MB\n"
     ]
    }
   ],
   "source": [
    "scDF_issue = pd.read_csv('scDF_issue_sent_tokentize.csv')\n",
    "scDF_issue.opinionText = scDF_issue.opinionText.astype(str)\n",
    "scDF_issue.normalized_sents = scDF_issue.normalized_sents.astype(list)\n",
    "scDF_issue.info()"
   ]
  },
  {
   "cell_type": "code",
   "execution_count": 52,
   "metadata": {},
   "outputs": [
    {
     "data": {
      "text/plain": [
       "200870"
      ]
     },
     "execution_count": 52,
     "metadata": {},
     "output_type": "execute_result"
    }
   ],
   "source": [
    "scDF_issue.groupby('issueArea')['docket_number'].count().sum()"
   ]
  },
  {
   "cell_type": "code",
   "execution_count": 51,
   "metadata": {},
   "outputs": [
    {
     "data": {
      "text/plain": [
       "122996835"
      ]
     },
     "execution_count": 51,
     "metadata": {},
     "output_type": "execute_result"
    }
   ],
   "source": [
    "scDF_issue.groupby('issueArea')['normalized_tokens_count'].sum().sum()"
   ]
  },
  {
   "cell_type": "code",
   "execution_count": 50,
   "metadata": {},
   "outputs": [
    {
     "data": {
      "text/plain": [
       "6028"
      ]
     },
     "execution_count": 50,
     "metadata": {},
     "output_type": "execute_result"
    }
   ],
   "source": [
    "scDF_issue.docket_number.nunique()"
   ]
  },
  {
   "cell_type": "code",
   "execution_count": 27,
   "metadata": {},
   "outputs": [
    {
     "data": {
      "text/html": [
       "<div>\n",
       "<style scoped>\n",
       "    .dataframe tbody tr th:only-of-type {\n",
       "        vertical-align: middle;\n",
       "    }\n",
       "\n",
       "    .dataframe tbody tr th {\n",
       "        vertical-align: top;\n",
       "    }\n",
       "\n",
       "    .dataframe thead th {\n",
       "        text-align: right;\n",
       "    }\n",
       "</style>\n",
       "<table border=\"1\" class=\"dataframe\">\n",
       "  <thead>\n",
       "    <tr style=\"text-align: right;\">\n",
       "      <th></th>\n",
       "      <th>decision_date</th>\n",
       "      <th>docket_number</th>\n",
       "      <th>name_abbreviation</th>\n",
       "      <th>opinionText</th>\n",
       "      <th>issueArea</th>\n",
       "      <th>normalized_sents</th>\n",
       "      <th>normalized_sents_count</th>\n",
       "    </tr>\n",
       "  </thead>\n",
       "  <tbody>\n",
       "    <tr>\n",
       "      <th>0</th>\n",
       "      <td>1977-05-31</td>\n",
       "      <td>76-333</td>\n",
       "      <td>United Air Lines, Inc. v. Evans</td>\n",
       "      <td>mr justice stevens delivered the opinion of th...</td>\n",
       "      <td>2.0</td>\n",
       "      <td>[['mr', 'justice', 'stevens', 'delivered', 'th...</td>\n",
       "      <td>1</td>\n",
       "    </tr>\n",
       "    <tr>\n",
       "      <th>1</th>\n",
       "      <td>1977-01-25</td>\n",
       "      <td>76-333</td>\n",
       "      <td>United Air Lines, Inc. v. Evans</td>\n",
       "      <td>court of appeal 7th circuit certiorari granted...</td>\n",
       "      <td>2.0</td>\n",
       "      <td>[['court', 'of', 'appeal', '7th', 'circuit', '...</td>\n",
       "      <td>1</td>\n",
       "    </tr>\n",
       "    <tr>\n",
       "      <th>2</th>\n",
       "      <td>1977-01-17</td>\n",
       "      <td>76-333</td>\n",
       "      <td>United Air Lines, Inc. v. Evans</td>\n",
       "      <td>court of appeal 7th circuit certiorari granted...</td>\n",
       "      <td>2.0</td>\n",
       "      <td>[['court', 'of', 'appeal', '7th', 'circuit', '...</td>\n",
       "      <td>1</td>\n",
       "    </tr>\n",
       "    <tr>\n",
       "      <th>3</th>\n",
       "      <td>1976-11-01</td>\n",
       "      <td>76-333</td>\n",
       "      <td>United Air Lines, Inc. v. Evans</td>\n",
       "      <td>court of appeal 7th circuit certiorari granted</td>\n",
       "      <td>2.0</td>\n",
       "      <td>[['court', 'of', 'appeal', '7th', 'circuit', '...</td>\n",
       "      <td>1</td>\n",
       "    </tr>\n",
       "    <tr>\n",
       "      <th>4</th>\n",
       "      <td>1977-05-31</td>\n",
       "      <td>76-777</td>\n",
       "      <td>Connor v. Finch</td>\n",
       "      <td>mr justice stewart delivered the opinion of th...</td>\n",
       "      <td>2.0</td>\n",
       "      <td>[['mr', 'justice', 'stewart', 'delivered', 'th...</td>\n",
       "      <td>1</td>\n",
       "    </tr>\n",
       "  </tbody>\n",
       "</table>\n",
       "</div>"
      ],
      "text/plain": [
       "  decision_date docket_number                name_abbreviation  \\\n",
       "0    1977-05-31        76-333  United Air Lines, Inc. v. Evans   \n",
       "1    1977-01-25        76-333  United Air Lines, Inc. v. Evans   \n",
       "2    1977-01-17        76-333  United Air Lines, Inc. v. Evans   \n",
       "3    1976-11-01        76-333  United Air Lines, Inc. v. Evans   \n",
       "4    1977-05-31        76-777                  Connor v. Finch   \n",
       "\n",
       "                                         opinionText  issueArea  \\\n",
       "0  mr justice stevens delivered the opinion of th...        2.0   \n",
       "1  court of appeal 7th circuit certiorari granted...        2.0   \n",
       "2  court of appeal 7th circuit certiorari granted...        2.0   \n",
       "3     court of appeal 7th circuit certiorari granted        2.0   \n",
       "4  mr justice stewart delivered the opinion of th...        2.0   \n",
       "\n",
       "                                    normalized_sents  normalized_sents_count  \n",
       "0  [['mr', 'justice', 'stevens', 'delivered', 'th...                       1  \n",
       "1  [['court', 'of', 'appeal', '7th', 'circuit', '...                       1  \n",
       "2  [['court', 'of', 'appeal', '7th', 'circuit', '...                       1  \n",
       "3  [['court', 'of', 'appeal', '7th', 'circuit', '...                       1  \n",
       "4  [['mr', 'justice', 'stewart', 'delivered', 'th...                       1  "
      ]
     },
     "execution_count": 27,
     "metadata": {},
     "output_type": "execute_result"
    }
   ],
   "source": [
    "scDF_issue.head()"
   ]
  },
  {
   "cell_type": "markdown",
   "metadata": {},
   "source": [
    "### POS Tagging"
   ]
  },
  {
   "cell_type": "code",
   "execution_count": null,
   "metadata": {},
   "outputs": [],
   "source": [
    "# Using NLTK here but consider changing to Stanford or more advanced tagger\n",
    "\n",
    "scDF_issue['normalized_tokens_POS'] = [nltk.pos_tag(t) for t in scDF_filter['normalized_tokens']]\n",
    "\n",
    "scDist_WordtoPOS = nltk.ConditionalFreqDist(scDF_issue['normalized_tokens_POS'].sum())\n",
    "list(scDist_WordtoPOS.items())[:10]"
   ]
  },
  {
   "cell_type": "code",
   "execution_count": null,
   "metadata": {},
   "outputs": [],
   "source": [
    "scDist_POStoWord = nltk.ConditionalFreqDist((p, w) for w, p in scDF_issue['normalized_tokens_POS'].sum())\n",
    "\n",
    "scDist_POStoWord['JJS']\n",
    "scDist_POStoWord['NN'].most_common(5)\n",
    "scDist_POStoWord['VB'].plot()"
   ]
  },
  {
   "cell_type": "code",
   "execution_count": null,
   "metadata": {},
   "outputs": [],
   "source": [
    "# whcpdist_POStoWord = nltk.ConditionalProbDist(whcfdist_POStoWord, nltk.ELEProbDist)\n",
    "\n",
    "#print the most common nouns\n",
    "# print(scDist_POStoWord['NN'].max())\n",
    "\n",
    "#And its probability\n",
    "# print(scDist_POStoWord['NN'].prob(scDist_POStoWord['NN'].max()))"
   ]
  },
  {
   "cell_type": "code",
   "execution_count": null,
   "metadata": {},
   "outputs": [],
   "source": [
    "ussc_cloud = wordcloud.WordCloud(background_color=\"white\", max_words=500, width= 1000, \n",
    "                         height = 1000, mode ='RGBA', scale=.5).generate(' '.join(scDF_issue['normalized_tokens'].sum()))\n",
    "plt.imshow(ussc_cloud)\n",
    "plt.axis(\"off\")\n",
    "plt.savefig(\"ussc_word_cloud.png\", format = 'png')"
   ]
  },
  {
   "cell_type": "markdown",
   "metadata": {},
   "source": [
    "## __Descriptive Statistics__"
   ]
  },
  {
   "cell_type": "markdown",
   "metadata": {},
   "source": [
    "### Word Distributions"
   ]
  },
  {
   "cell_type": "code",
   "execution_count": 20,
   "metadata": {},
   "outputs": [],
   "source": [
    "def create_dict(norm_text):\n",
    "    wordlist = [review.split(' ') for review in norm_text]\n",
    "    wordlist = [word for review in wordlist for word in review]\n",
    "    vocab_dict = Counter(wordlist) \n",
    "    for word in list(vocab_dict):\n",
    "        if word=='' or word==\"\":\n",
    "            del vocab_dict[word]\n",
    "    return vocab_dict\n",
    "\n",
    "def mean_length(norm_text):\n",
    "    review_lengths = []\n",
    "    for review in norm_text:\n",
    "        review_lengths.append(len(review.split(' ')))\n",
    "    return sum(review_lengths)/len(review_lengths)"
   ]
  },
  {
   "cell_type": "code",
   "execution_count": 46,
   "metadata": {},
   "outputs": [
    {
     "name": "stdout",
     "output_type": "stream",
     "text": [
      "Number of unique words in all reviews: 614562\n",
      "\n",
      "\n",
      "Most common words in all reviews: [('court', 1517722), ('state', 782642), ('section', 677982), ('case', 622615), ('act', 609009), ('upon', 593492), ('would', 517015), ('may', 516911), ('law', 440380), ('us', 428277)]\n",
      "\n",
      "\n",
      "Average length of review: 1091.1696825171887\n"
     ]
    }
   ],
   "source": [
    "all_dict = create_dict(scDF_issue_tokens.opinionText)\n",
    "\n",
    "print('Number of unique words in all reviews:', len(all_dict))\n",
    "print('\\n')\n",
    "print('Most common words in all reviews:', all_dict.most_common(10))\n",
    "print('\\n')\n",
    "print('Average length of review:', mean_length(scDF_issue.opinionText))"
   ]
  },
  {
   "cell_type": "code",
   "execution_count": 7,
   "metadata": {},
   "outputs": [
    {
     "data": {
      "text/html": [
       "<div>\n",
       "<style scoped>\n",
       "    .dataframe tbody tr th:only-of-type {\n",
       "        vertical-align: middle;\n",
       "    }\n",
       "\n",
       "    .dataframe tbody tr th {\n",
       "        vertical-align: top;\n",
       "    }\n",
       "\n",
       "    .dataframe thead th {\n",
       "        text-align: right;\n",
       "    }\n",
       "</style>\n",
       "<table border=\"1\" class=\"dataframe\">\n",
       "  <thead>\n",
       "    <tr style=\"text-align: right;\">\n",
       "      <th></th>\n",
       "      <th>count</th>\n",
       "    </tr>\n",
       "  </thead>\n",
       "  <tbody>\n",
       "    <tr>\n",
       "      <th>mr</th>\n",
       "      <td>150662</td>\n",
       "    </tr>\n",
       "    <tr>\n",
       "      <th>justice</th>\n",
       "      <td>211080</td>\n",
       "    </tr>\n",
       "    <tr>\n",
       "      <th>stevens</th>\n",
       "      <td>7909</td>\n",
       "    </tr>\n",
       "    <tr>\n",
       "      <th>delivered</th>\n",
       "      <td>80387</td>\n",
       "    </tr>\n",
       "    <tr>\n",
       "      <th>the</th>\n",
       "      <td>19828529</td>\n",
       "    </tr>\n",
       "  </tbody>\n",
       "</table>\n",
       "</div>"
      ],
      "text/plain": [
       "              count\n",
       "mr           150662\n",
       "justice      211080\n",
       "stevens        7909\n",
       "delivered     80387\n",
       "the        19828529"
      ]
     },
     "execution_count": 7,
     "metadata": {},
     "output_type": "execute_result"
    }
   ],
   "source": [
    "from collections import Counter\n",
    "all_dict = create_dict(scDF_issue_tokens.opinionText)\n",
    "countedWords = pd.DataFrame.from_dict(all_dict, orient='index', columns=['count'])\n",
    "countedWords.head()"
   ]
  },
  {
   "cell_type": "code",
   "execution_count": 8,
   "metadata": {},
   "outputs": [],
   "source": [
    "countedWords = countedWords.reset_index()\n",
    "countedWords.sort_values('count', ascending=False, inplace=True)"
   ]
  },
  {
   "cell_type": "code",
   "execution_count": 15,
   "metadata": {},
   "outputs": [
    {
     "data": {
      "text/html": [
       "<div>\n",
       "<style scoped>\n",
       "    .dataframe tbody tr th:only-of-type {\n",
       "        vertical-align: middle;\n",
       "    }\n",
       "\n",
       "    .dataframe tbody tr th {\n",
       "        vertical-align: top;\n",
       "    }\n",
       "\n",
       "    .dataframe thead th {\n",
       "        text-align: right;\n",
       "    }\n",
       "</style>\n",
       "<table border=\"1\" class=\"dataframe\">\n",
       "  <thead>\n",
       "    <tr style=\"text-align: right;\">\n",
       "      <th></th>\n",
       "      <th>index</th>\n",
       "      <th>count</th>\n",
       "    </tr>\n",
       "  </thead>\n",
       "  <tbody>\n",
       "    <tr>\n",
       "      <th>61008</th>\n",
       "      <td>interstate”</td>\n",
       "      <td>99</td>\n",
       "    </tr>\n",
       "    <tr>\n",
       "      <th>78900</th>\n",
       "      <td>salk</td>\n",
       "      <td>99</td>\n",
       "    </tr>\n",
       "    <tr>\n",
       "      <th>43375</th>\n",
       "      <td>mart</td>\n",
       "      <td>99</td>\n",
       "    </tr>\n",
       "    <tr>\n",
       "      <th>30007</th>\n",
       "      <td>semester</td>\n",
       "      <td>99</td>\n",
       "    </tr>\n",
       "    <tr>\n",
       "      <th>38241</th>\n",
       "      <td>damned</td>\n",
       "      <td>99</td>\n",
       "    </tr>\n",
       "  </tbody>\n",
       "</table>\n",
       "</div>"
      ],
      "text/plain": [
       "             index  count\n",
       "61008  interstate”     99\n",
       "78900         salk     99\n",
       "43375         mart     99\n",
       "30007     semester     99\n",
       "38241       damned     99"
      ]
     },
     "execution_count": 15,
     "metadata": {},
     "output_type": "execute_result"
    }
   ],
   "source": [
    "countedWords_filter = countedWords[countedWords['count']<=99]\n",
    "countedWords_filter.head()"
   ]
  },
  {
   "cell_type": "code",
   "execution_count": 16,
   "metadata": {},
   "outputs": [
    {
     "name": "stdout",
     "output_type": "stream",
     "text": [
      "<class 'pandas.core.frame.DataFrame'>\n",
      "Int64Index: 580889 entries, 61008 to 616916\n",
      "Data columns (total 2 columns):\n",
      "index    580889 non-null object\n",
      "count    580889 non-null int64\n",
      "dtypes: int64(1), object(1)\n",
      "memory usage: 13.3+ MB\n"
     ]
    }
   ],
   "source": [
    "countedWords_filter.info()"
   ]
  },
  {
   "cell_type": "code",
   "execution_count": 69,
   "metadata": {},
   "outputs": [
    {
     "name": "stdout",
     "output_type": "stream",
     "text": [
      "Total Number of Unique Tokens: 614562\n",
      "Total Number of Words: count    120566978\n",
      "dtype: int64\n"
     ]
    }
   ],
   "source": [
    "print('Total Number of Unique Tokens:', countedWords.index.nunique())\n",
    "print('Total Number of Words:', countedWords.sum())"
   ]
  },
  {
   "cell_type": "markdown",
   "metadata": {},
   "source": [
    "This shows that likelihood of a word occurring is inversely proportional to its rank. This effect is called Zipf's Law, and suggests that the most frequent word will occur approximately twice as often as the second most frequent word, three times as often as the third most frequent word, etc. Zipf's law is most easily observed by plotting the data on a log-log graph, with the axes being log (rank order) and log (frequency) resulting in a linear relationship."
   ]
  },
  {
   "cell_type": "code",
   "execution_count": 20,
   "metadata": {},
   "outputs": [
    {
     "data": {
      "image/png": "[encoded data removed]",
      "text/plain": [
       "<Figure size 1440x720 with 1 Axes>"
      ]
     },
     "metadata": {
      "needs_background": "light"
     },
     "output_type": "display_data"
    }
   ],
   "source": [
    "#Creating a figure and axis lets us do things like change the scaling or add a title\n",
    "import matplotlib.pyplot as plt\n",
    "fig = plt.figure(figsize=(20,10))\n",
    "ax = fig.add_subplot(111)\n",
    "plt.plot(range(len(countedWords)), countedWords['count'])\n",
    "plt.savefig('ussc_zipf_graph.png')\n",
    "plt.show()"
   ]
  },
  {
   "cell_type": "markdown",
   "metadata": {},
   "source": [
    "(The same relationship occurs in many other rankings, such as population ranks of cities, corporation sizes, income rankings, etc.) \n",
    "\n",
    "The distribution was imagined by Zipf to be driven by a principle of 'least effort' where speakers did not work any harder than necessary to communicate a given idea, but the basis for this relationship is still not well understood and conforms at least as well to a process of [preferential attachment](https://en.wikipedia.org/wiki/Preferential_attachment) whereby people disproportionately attend to popular words.\n",
    "\n",
    "There are many other properties of words we can examine. First lets look surrounding words with the concordance. To do this we need to load the text into a `ConcordanceIndex`"
   ]
  },
  {
   "cell_type": "code",
   "execution_count": 21,
   "metadata": {},
   "outputs": [
    {
     "data": {
      "image/png": "[encoded data removed]",
      "text/plain": [
       "<Figure size 1440x720 with 1 Axes>"
      ]
     },
     "metadata": {
      "needs_background": "light"
     },
     "output_type": "display_data"
    }
   ],
   "source": [
    "fig = plt.figure(figsize=(20,10))\n",
    "ax = fig.add_subplot(111)\n",
    "plt.plot(range(len(countedWords)), countedWords['count'])\n",
    "ax.set_yscale('log')\n",
    "ax.set_xscale('log')\n",
    "plt.savefig('ussc_log_graph.png')\n",
    "plt.show()"
   ]
  },
  {
   "cell_type": "markdown",
   "metadata": {},
   "source": [
    "### Important Words"
   ]
  },
  {
   "cell_type": "code",
   "execution_count": null,
   "metadata": {},
   "outputs": [],
   "source": [
    "#.sum() adds together the lists from each row into a single list\n",
    "scDist = nltk.ConditionalFreqDist(((len(w), w) for w in scDF_issue['normalized_tokens'].sum()))\n",
    "\n",
    "#print the number of words\n",
    "print(scDist.N())"
   ]
  },
  {
   "cell_type": "markdown",
   "metadata": {},
   "source": [
    "## __Word Embeddings__"
   ]
  },
  {
   "cell_type": "code",
   "execution_count": 19,
   "metadata": {},
   "outputs": [
    {
     "name": "stdout",
     "output_type": "stream",
     "text": [
      "<class 'pandas.core.frame.DataFrame'>\n",
      "Int64Index: 50999 entries, 0 to 204554\n",
      "Data columns (total 7 columns):\n",
      "decision_date              50999 non-null datetime64[ns]\n",
      "docket_number              50999 non-null object\n",
      "name_abbreviation          50999 non-null object\n",
      "opinionText                50999 non-null object\n",
      "issueArea                  49889 non-null float64\n",
      "tokenized_text             50999 non-null object\n",
      "normalized_tokens_count    50999 non-null int64\n",
      "dtypes: datetime64[ns](1), float64(1), int64(1), object(4)\n",
      "memory usage: 3.1+ MB\n"
     ]
    }
   ],
   "source": [
    "scDF_issue_test = scDF_issue_tokens[scDF_issue_tokens.normalized_tokens_count >= 500]\n",
    "scDF_issue_test.info()"
   ]
  },
  {
   "cell_type": "code",
   "execution_count": 21,
   "metadata": {},
   "outputs": [
    {
     "data": {
      "text/html": [
       "<div>\n",
       "<style scoped>\n",
       "    .dataframe tbody tr th:only-of-type {\n",
       "        vertical-align: middle;\n",
       "    }\n",
       "\n",
       "    .dataframe tbody tr th {\n",
       "        vertical-align: top;\n",
       "    }\n",
       "\n",
       "    .dataframe thead th {\n",
       "        text-align: right;\n",
       "    }\n",
       "</style>\n",
       "<table border=\"1\" class=\"dataframe\">\n",
       "  <thead>\n",
       "    <tr style=\"text-align: right;\">\n",
       "      <th></th>\n",
       "      <th>decision_date</th>\n",
       "      <th>docket_number</th>\n",
       "      <th>name_abbreviation</th>\n",
       "      <th>opinionText</th>\n",
       "      <th>issueArea</th>\n",
       "      <th>tokenized_text</th>\n",
       "      <th>normalized_tokens_count</th>\n",
       "    </tr>\n",
       "  </thead>\n",
       "  <tbody>\n",
       "    <tr>\n",
       "      <th>0</th>\n",
       "      <td>1977-05-31</td>\n",
       "      <td>76-333</td>\n",
       "      <td>United Air Lines, Inc. v. Evans</td>\n",
       "      <td>mr justice stevens delivered the opinion of th...</td>\n",
       "      <td>2.0</td>\n",
       "      <td>['mr', 'justice', 'stevens', 'delivered', 'the...</td>\n",
       "      <td>1804</td>\n",
       "    </tr>\n",
       "    <tr>\n",
       "      <th>4</th>\n",
       "      <td>1977-05-31</td>\n",
       "      <td>76-777</td>\n",
       "      <td>Connor v. Finch</td>\n",
       "      <td>mr justice stewart delivered the opinion of th...</td>\n",
       "      <td>2.0</td>\n",
       "      <td>['mr', 'justice', 'stewart', 'delivered', 'the...</td>\n",
       "      <td>4848</td>\n",
       "    </tr>\n",
       "    <tr>\n",
       "      <th>6</th>\n",
       "      <td>1977-06-09</td>\n",
       "      <td>76-404</td>\n",
       "      <td>Illinois Brick Co. v. Illinois</td>\n",
       "      <td>mr justice white delivered the opinion of the ...</td>\n",
       "      <td>8.0</td>\n",
       "      <td>['mr', 'justice', 'white', 'delivered', 'the',...</td>\n",
       "      <td>9162</td>\n",
       "    </tr>\n",
       "    <tr>\n",
       "      <th>15</th>\n",
       "      <td>1978-04-03</td>\n",
       "      <td>76-5856</td>\n",
       "      <td>Holloway v. Arkansas</td>\n",
       "      <td>mr chief justice burger delivered the opinion ...</td>\n",
       "      <td>2.0</td>\n",
       "      <td>['mr', 'chief', 'justice', 'burger', 'delivere...</td>\n",
       "      <td>3997</td>\n",
       "    </tr>\n",
       "    <tr>\n",
       "      <th>25</th>\n",
       "      <td>1977-03-07</td>\n",
       "      <td>75-1157</td>\n",
       "      <td>Town of Lockport v. Citizens for Community Act...</td>\n",
       "      <td>mr justice stewart delivered the opinion of th...</td>\n",
       "      <td>2.0</td>\n",
       "      <td>['mr', 'justice', 'stewart', 'delivered', 'the...</td>\n",
       "      <td>2623</td>\n",
       "    </tr>\n",
       "  </tbody>\n",
       "</table>\n",
       "</div>"
      ],
      "text/plain": [
       "   decision_date docket_number  \\\n",
       "0     1977-05-31        76-333   \n",
       "4     1977-05-31        76-777   \n",
       "6     1977-06-09        76-404   \n",
       "15    1978-04-03       76-5856   \n",
       "25    1977-03-07       75-1157   \n",
       "\n",
       "                                    name_abbreviation  \\\n",
       "0                     United Air Lines, Inc. v. Evans   \n",
       "4                                     Connor v. Finch   \n",
       "6                      Illinois Brick Co. v. Illinois   \n",
       "15                               Holloway v. Arkansas   \n",
       "25  Town of Lockport v. Citizens for Community Act...   \n",
       "\n",
       "                                          opinionText  issueArea  \\\n",
       "0   mr justice stevens delivered the opinion of th...        2.0   \n",
       "4   mr justice stewart delivered the opinion of th...        2.0   \n",
       "6   mr justice white delivered the opinion of the ...        8.0   \n",
       "15  mr chief justice burger delivered the opinion ...        2.0   \n",
       "25  mr justice stewart delivered the opinion of th...        2.0   \n",
       "\n",
       "                                       tokenized_text  normalized_tokens_count  \n",
       "0   ['mr', 'justice', 'stevens', 'delivered', 'the...                     1804  \n",
       "4   ['mr', 'justice', 'stewart', 'delivered', 'the...                     4848  \n",
       "6   ['mr', 'justice', 'white', 'delivered', 'the',...                     9162  \n",
       "15  ['mr', 'chief', 'justice', 'burger', 'delivere...                     3997  \n",
       "25  ['mr', 'justice', 'stewart', 'delivered', 'the...                     2623  "
      ]
     },
     "execution_count": 21,
     "metadata": {},
     "output_type": "execute_result"
    }
   ],
   "source": [
    "scDF_issue_test.head()"
   ]
  },
  {
   "cell_type": "code",
   "execution_count": 22,
   "metadata": {},
   "outputs": [
    {
     "data": {
      "text/html": [
       "<div>\n",
       "<style scoped>\n",
       "    .dataframe tbody tr th:only-of-type {\n",
       "        vertical-align: middle;\n",
       "    }\n",
       "\n",
       "    .dataframe tbody tr th {\n",
       "        vertical-align: top;\n",
       "    }\n",
       "\n",
       "    .dataframe thead th {\n",
       "        text-align: right;\n",
       "    }\n",
       "</style>\n",
       "<table border=\"1\" class=\"dataframe\">\n",
       "  <thead>\n",
       "    <tr style=\"text-align: right;\">\n",
       "      <th></th>\n",
       "      <th>index</th>\n",
       "      <th>count</th>\n",
       "    </tr>\n",
       "  </thead>\n",
       "  <tbody>\n",
       "    <tr>\n",
       "      <th>0</th>\n",
       "      <td>the</td>\n",
       "      <td>19060769</td>\n",
       "    </tr>\n",
       "    <tr>\n",
       "      <th>1</th>\n",
       "      <td>of</td>\n",
       "      <td>10337565</td>\n",
       "    </tr>\n",
       "    <tr>\n",
       "      <th>2</th>\n",
       "      <td>to</td>\n",
       "      <td>6434524</td>\n",
       "    </tr>\n",
       "    <tr>\n",
       "      <th>3</th>\n",
       "      <td>in</td>\n",
       "      <td>4890660</td>\n",
       "    </tr>\n",
       "    <tr>\n",
       "      <th>4</th>\n",
       "      <td>and</td>\n",
       "      <td>4882672</td>\n",
       "    </tr>\n",
       "  </tbody>\n",
       "</table>\n",
       "</div>"
      ],
      "text/plain": [
       "  index     count\n",
       "0   the  19060769\n",
       "1    of  10337565\n",
       "2    to   6434524\n",
       "3    in   4890660\n",
       "4   and   4882672"
      ]
     },
     "execution_count": 22,
     "metadata": {},
     "output_type": "execute_result"
    }
   ],
   "source": [
    "from collections import Counter\n",
    "test_dict = create_dict(scDF_issue_test.opinionText)\n",
    "countedWords = pd.DataFrame.from_dict(test_dict, orient='index', columns=['count'])\n",
    "\n",
    "countedWords.sort_values('count', ascending=False, inplace=True)\n",
    "countedWords = countedWords.reset_index()\n",
    "countedWords.head()"
   ]
  },
  {
   "cell_type": "code",
   "execution_count": 26,
   "metadata": {},
   "outputs": [
    {
     "name": "stdout",
     "output_type": "stream",
     "text": [
      "<class 'pandas.core.frame.DataFrame'>\n",
      "Int64Index: 570213 entries, 35391 to 605603\n",
      "Data columns (total 2 columns):\n",
      "index    570213 non-null object\n",
      "count    570213 non-null int64\n",
      "dtypes: int64(1), object(1)\n",
      "memory usage: 13.1+ MB\n"
     ]
    }
   ],
   "source": [
    "wordFilter = countedWords[countedWords['count']<=99]\n",
    "wordFilter.info()"
   ]
  },
  {
   "cell_type": "code",
   "execution_count": 29,
   "metadata": {},
   "outputs": [],
   "source": [
    "wordFilter_list = list(wordFilter['index'])"
   ]
  },
  {
   "cell_type": "code",
   "execution_count": null,
   "metadata": {},
   "outputs": [],
   "source": [
    "scDF_issue_test['normalized_tokens'] = scDF_issue_test['tokenized_text'].apply(lambda x: normlizeTokens(x, \n",
    "                                                                stopwordLst = wordFilter_list))"
   ]
  },
  {
   "cell_type": "code",
   "execution_count": null,
   "metadata": {},
   "outputs": [],
   "source": [
    "scDF_issue_test.head()"
   ]
  },
  {
   "cell_type": "markdown",
   "metadata": {},
   "source": [
    "### Word2Vec"
   ]
  },
  {
   "cell_type": "markdown",
   "metadata": {},
   "source": [
    "#### __(a) CBOW__"
   ]
  },
  {
   "cell_type": "code",
   "execution_count": null,
   "metadata": {},
   "outputs": [],
   "source": [
    "scW2V = gensim.models.word2vec.Word2Vec(scDF_issue_test['normalized_tokens'].sum())"
   ]
  },
  {
   "cell_type": "code",
   "execution_count": 494,
   "metadata": {},
   "outputs": [
    {
     "name": "stdout",
     "output_type": "stream",
     "text": [
      "A 100 dimesional vector:\n"
     ]
    }
   ],
   "source": [
    "print(\"A {} dimesional vector:\".format(scW2V['abortion'].shape[0]))"
   ]
  },
  {
   "cell_type": "code",
   "execution_count": 495,
   "metadata": {},
   "outputs": [
    {
     "data": {
      "text/plain": [
       "[('abortions', 0.7884458303451538),\n",
       " ('postviability', 0.6882057189941406),\n",
       " ('woman', 0.6716547012329102),\n",
       " ('pregnancy', 0.6633925437927246),\n",
       " ('pregnant', 0.6534528732299805),\n",
       " ('childbirth', 0.6517119407653809),\n",
       " ('pregnancies', 0.6327844858169556),\n",
       " ('surgery', 0.6324198246002197),\n",
       " ('fetus', 0.6008843183517456),\n",
       " ('physician', 0.5988410115242004)]"
      ]
     },
     "execution_count": 495,
     "metadata": {},
     "output_type": "execute_result"
    }
   ],
   "source": [
    "scW2V.most_similar('abortion')"
   ]
  },
  {
   "cell_type": "code",
   "execution_count": null,
   "metadata": {},
   "outputs": [],
   "source": [
    "numWords = 150\n",
    "targetWords = scW2V.wv.index2word[numWords]\n",
    "\n",
    "wordsSubMatrix = []\n",
    "for word in targetWords:\n",
    "    wordsSubMatrix.append(scW2V[word])\n",
    "wordsSubMatrix = np.array(wordsSubMatrix)\n",
    "wordsSubMatrix\n",
    "\n",
    "pcaWords = sklearn.decomposition.PCA(n_components = 50).fit(wordsSubMatrix)\n",
    "reducedPCA_data = pcaWords.transform(wordsSubMatrix)\n",
    "#T-SNE is theoretically better, but you should experiment\n",
    "tsneWords = sklearn.manifold.TSNE(n_components = 2, early_exaggeration = 25).fit_transform(reducedPCA_data)"
   ]
  },
  {
   "cell_type": "code",
   "execution_count": null,
   "metadata": {},
   "outputs": [],
   "source": [
    "fig = plt.figure(figsize = (15,10))\n",
    "ax = fig.add_subplot(111)\n",
    "ax.set_frame_on(False)\n",
    "plt.scatter(tsneWords[:, 0], tsneWords[:, 1], alpha = 0)#Making the points invisible \n",
    "for i, word in enumerate(targetWords):\n",
    "    ax.annotate(word, \n",
    "                (tsneWords[:, 0][i],tsneWords[:, 1][i]), \n",
    "                size =  20 * (numWords - i) / numWords, \n",
    "                alpha = .8 * (numWords - i) / numWords + .2)\n",
    "plt.xticks(())\n",
    "plt.yticks(())\n",
    "plt.show()"
   ]
  },
  {
   "cell_type": "markdown",
   "metadata": {},
   "source": [
    "#### __(b) SGNS__"
   ]
  },
  {
   "cell_type": "code",
   "execution_count": 13,
   "metadata": {},
   "outputs": [
    {
     "name": "stdout",
     "output_type": "stream",
     "text": [
      "<class 'pandas.core.frame.DataFrame'>\n",
      "RangeIndex: 204641 entries, 0 to 204640\n",
      "Data columns (total 7 columns):\n",
      "decision_date             204641 non-null datetime64[ns]\n",
      "docket_number             204641 non-null object\n",
      "name_abbreviation         204641 non-null object\n",
      "opinionText               204641 non-null object\n",
      "issueArea                 200870 non-null float64\n",
      "normalized_sents          204641 non-null object\n",
      "normalized_sents_count    204641 non-null int64\n",
      "dtypes: datetime64[ns](1), float64(1), int64(1), object(4)\n",
      "memory usage: 10.9+ MB\n"
     ]
    }
   ],
   "source": [
    "scDF_issue.decision_date = pd.to_datetime(scDF_issue.decision_date)\n",
    "scDF_issue.info()"
   ]
  },
  {
   "cell_type": "code",
   "execution_count": null,
   "metadata": {},
   "outputs": [],
   "source": [
    "scW2V = gensim.models.word2vec.Word2Vec(scDF_issue['normalized_sents'].sum(), workers=12, sg=1, hs=0)"
   ]
  },
  {
   "cell_type": "code",
   "execution_count": 494,
   "metadata": {},
   "outputs": [
    {
     "name": "stdout",
     "output_type": "stream",
     "text": [
      "A 100 dimesional vector:\n"
     ]
    }
   ],
   "source": [
    "print(\"A {} dimesional vector:\".format(scW2V['abortion'].shape[0]))"
   ]
  },
  {
   "cell_type": "code",
   "execution_count": 495,
   "metadata": {},
   "outputs": [
    {
     "data": {
      "text/plain": [
       "[('abortions', 0.7884458303451538),\n",
       " ('postviability', 0.6882057189941406),\n",
       " ('woman', 0.6716547012329102),\n",
       " ('pregnancy', 0.6633925437927246),\n",
       " ('pregnant', 0.6534528732299805),\n",
       " ('childbirth', 0.6517119407653809),\n",
       " ('pregnancies', 0.6327844858169556),\n",
       " ('surgery', 0.6324198246002197),\n",
       " ('fetus', 0.6008843183517456),\n",
       " ('physician', 0.5988410115242004)]"
      ]
     },
     "execution_count": 495,
     "metadata": {},
     "output_type": "execute_result"
    }
   ],
   "source": [
    "scW2V.most_similar('abortion')"
   ]
  },
  {
   "cell_type": "code",
   "execution_count": null,
   "metadata": {},
   "outputs": [],
   "source": [
    "numWords = 150\n",
    "targetWords = scW2V_SGNS.wv.index2word[numWords]\n",
    "\n",
    "wordsSubMatrix = []\n",
    "for word in targetWords:\n",
    "    wordsSubMatrix.append(scW2V_SGNS[word])\n",
    "wordsSubMatrix = np.array(wordsSubMatrix)\n",
    "wordsSubMatrix\n",
    "\n",
    "pcaWords = sklearn.decomposition.PCA(n_components = 50).fit(wordsSubMatrix)\n",
    "reducedPCA_data = pcaWords.transform(wordsSubMatrix)\n",
    "#T-SNE is theoretically better, but you should experiment\n",
    "tsneWords = sklearn.manifold.TSNE(n_components = 2, early_exaggeration = 25).fit_transform(reducedPCA_data)"
   ]
  },
  {
   "cell_type": "code",
   "execution_count": null,
   "metadata": {},
   "outputs": [],
   "source": [
    "fig = plt.figure(figsize = (15,10))\n",
    "ax = fig.add_subplot(111)\n",
    "ax.set_frame_on(False)\n",
    "plt.scatter(tsneWords[:, 0], tsneWords[:, 1], alpha = 0)#Making the points invisible \n",
    "for i, word in enumerate(targetWords):\n",
    "    ax.annotate(word, \n",
    "                (tsneWords[:, 0][i],tsneWords[:, 1][i]), \n",
    "                size =  20 * (numWords - i) / numWords, \n",
    "                alpha = .8 * (numWords - i) / numWords + .2)\n",
    "plt.xticks(())\n",
    "plt.yticks(())\n",
    "plt.show()"
   ]
  },
  {
   "cell_type": "markdown",
   "metadata": {},
   "source": [
    "## __Confidence Intervals__"
   ]
  },
  {
   "cell_type": "markdown",
   "metadata": {},
   "source": [
    "### Boostrapping"
   ]
  },
  {
   "cell_type": "code",
   "execution_count": null,
   "metadata": {},
   "outputs": [],
   "source": [
    "estimatesB=[]\n",
    "for x in range(20):\n",
    "    scW2VB = gensim.models.word2vec.Word2Vec(scDF_filter['normalized_sents'].sample(frac=1.0, replace=True).sum())\n",
    "    try:\n",
    "        estimatesB.append(cos_difference(scW2VB, 'liberty', 'constraint')[0,0])\n",
    "    except KeyError:\n",
    "        #Missing one of the words from the vocab\n",
    "        pass\n",
    "                                                      \n",
    "estimatesB.sort()         \n",
    "estimatesB"
   ]
  },
  {
   "cell_type": "code",
   "execution_count": null,
   "metadata": {},
   "outputs": [],
   "source": [
    "print(\"The 90% confidence interval for the cosine distance between liberty and constraint is:\\n\",\n",
    "      estimatesB[1], estimatesB[-2])"
   ]
  },
  {
   "cell_type": "markdown",
   "metadata": {},
   "source": [
    "### Subsampling"
   ]
  },
  {
   "cell_type": "code",
   "execution_count": null,
   "metadata": {},
   "outputs": [],
   "source": [
    "n_samples = 10\n",
    "sample_indices = np.random.randint(0,n_samples,(len(scDF_filter),))\n",
    "\n",
    "s_k =np.array([])\n",
    "tau_k=np.array([])\n",
    "\n",
    "for i in range(n_samples):\n",
    "    sample_w2v = gensim.models.word2vec.Word2Vec(scDF_filter[sample_indices == i]['normalized_sents'].sum())\n",
    "    try:\n",
    "        #Need to use words present in most samples\n",
    "        s_k = np.append(s_k, cos_difference(sample_w2v, 'liberty', 'constraint')[0,0])\n",
    "    except KeyError:\n",
    "        pass\n",
    "    else:\n",
    "        tau_k = np.append(tau_k, len(scDF_filter[sample_indices == i]))\n",
    "\n",
    "print(s_k)\n",
    "print(tau_k)\n",
    "\n",
    "tau = tau_k.sum()\n",
    "s = s_k.mean()\n",
    "B_k = np.sqrt(tau_k) * s_k-s_k.mean()"
   ]
  },
  {
   "cell_type": "code",
   "execution_count": null,
   "metadata": {},
   "outputs": [],
   "source": [
    "print(\"The 90% confidence interval for the cosine distance between liberty and constraint is:\\n\",\n",
    "      s-B_k[-2]/np.sqrt(tau), s-B_k[1]/np.sqrt(tau))"
   ]
  },
  {
   "cell_type": "code",
   "execution_count": null,
   "metadata": {},
   "outputs": [],
   "source": [
    "scW2V.save(\"WORD2VecTest.mm\")"
   ]
  },
  {
   "cell_type": "markdown",
   "metadata": {},
   "source": [
    "### Loss"
   ]
  },
  {
   "cell_type": "code",
   "execution_count": null,
   "metadata": {},
   "outputs": [],
   "source": [
    "scW2V_loss = gensim.models.word2vec.Word2Vec(size = 100, alpha=0.025, window=5, \n",
    "                                             min_count=5, hs=0, compute_loss = True)\n",
    "\n",
    "scW2V_loss.build_vocab(scDF_filter['normalized_sents'].sum())\n",
    "scW2V_loss.train(scDF_filter['normalized_sents'].sum(), total_examples=scW2V.corpus_count, epochs=1)\n",
    "#Using a list so we can capture every epoch\n",
    "losses = [scW2V_loss.running_training_loss]\n",
    "losses[0]"
   ]
  },
  {
   "cell_type": "code",
   "execution_count": null,
   "metadata": {},
   "outputs": [],
   "source": [
    "for i in range(19):\n",
    "    scW2V_loss.train(scDF_filter['normalized_sents'].sum(), \n",
    "                     total_examples=senReleasesW2V.corpus_count, epochs=1)\n",
    "    losses.append(scW2V_loss.running_training_loss)\n",
    "    print(\"Done epoch {}\".format(i + 2), end = '\\r')"
   ]
  },
  {
   "cell_type": "code",
   "execution_count": null,
   "metadata": {},
   "outputs": [],
   "source": [
    "lossesDF = pd.DataFrame({'loss' : losses, 'epoch' : range(len(losses))})\n",
    "lossesDF.plot(y = 'loss', x = 'epoch', logy=False, figsize=(15, 7))\n",
    "plt.show()"
   ]
  },
  {
   "cell_type": "code",
   "execution_count": null,
   "metadata": {},
   "outputs": [],
   "source": [
    "losses_dims=[]\n",
    "\n",
    "for d in [50,100,150,200,250,300,350,400,450,500, 550, 600, 650, 700, 750]:\n",
    "    scW2V_loss_dims = gensim.models.word2vec.Word2Vec(size = d, alpha=0.025, window=5, \n",
    "                                                      min_count=5, hs=0, compute_loss = True)\n",
    "    scW2V_loss_dims.build_vocab(scDF_filter['normalized_sents'].sum())\n",
    "    scW2V_loss_dims.train(scDF_filter['normalized_sents'].sum(), \n",
    "                     total_examples = scW2V.corpus_count, \n",
    "                     epochs=7)\n",
    "    scW2V_loss_dims.train(scDF_filter['normalized_sents'].sum(), \n",
    "                     total_examples = scW2V.corpus_count, \n",
    "                     epochs=1)\n",
    "    \n",
    "    losses_dims.append(scW2V_loss_dims.running_training_loss/(10+d*10))"
   ]
  },
  {
   "cell_type": "code",
   "execution_count": null,
   "metadata": {},
   "outputs": [],
   "source": [
    "losses_dimsDF = pandas.DataFrame({'loss' : losses_dims, 'dimensions' : [50,100,150,200,250,300,350,400,450,500,550,600,650,700,750]})\n",
    "losses_dimsDF.plot(y = 'loss', x = 'dimensions', logy=False, figsize=(15, 7))\n",
    "plt.show()"
   ]
  },
  {
   "cell_type": "markdown",
   "metadata": {},
   "source": [
    "## __Linguistic Change__"
   ]
  },
  {
   "cell_type": "code",
   "execution_count": 492,
   "metadata": {},
   "outputs": [],
   "source": [
    "def calcSynNorm(model):\n",
    "    \"\"\"since syn0norm is now depricated\"\"\"\n",
    "    return (model.wv.syn0 / np.sqrt((model.wv.syn0 ** 2).sum(-1))[..., np.newaxis]).astype(np.float32)\n",
    "\n",
    "def smartProcrustesAlignGensim(base_embed, other_embed, words=None):\n",
    "    \"\"\"Procrustes align two gensim word2vec models (to allow for comparison between same word across models).\n",
    "    Code ported from HistWords <https://github.com/williamleif/histwords> by William Hamilton <wleif@stanford.edu>.\n",
    "    (With help from William. Thank you!)\n",
    "    First, intersect the vocabularies (see 'intersectionAlignGensim' documentation).\n",
    "    Then do the alignment on the other_embed model.\n",
    "    Replace the other_embed model's syn0 and syn0norm numpy matrices with the aligned version.\n",
    "    Return other_embed.\n",
    "    If `words` is set, intersect the two models' vocabulary with the vocabulary in words (see 'intersectionAlignGensim' documentation).\n",
    "    \"\"\"\n",
    "    base_embed = copy.copy(base_embed)\n",
    "    other_embed = copy.copy(other_embed)\n",
    "    # make sure vocabulary and indices are aligned\n",
    "    in_base_embed, in_other_embed = intersectionAlignGensim(base_embed, other_embed, words=words)\n",
    "\n",
    "    # get the embedding matrices\n",
    "    base_vecs = calcSynNorm(in_base_embed)\n",
    "    other_vecs = calcSynNorm(in_other_embed)\n",
    "\n",
    "    # just a matrix dot product with numpy\n",
    "    m = other_vecs.T.dot(base_vecs) \n",
    "    # SVD method from numpy\n",
    "    u, _, v = np.linalg.svd(m)\n",
    "    # another matrix operation\n",
    "    ortho = u.dot(v) \n",
    "    # Replace original array with modified one\n",
    "    # i.e. multiplying the embedding matrix (syn0norm)by \"ortho\"\n",
    "    other_embed.wv.syn0norm = other_embed.wv.syn0 = (calcSynNorm(other_embed)).dot(ortho)\n",
    "    return other_embed\n",
    "    \n",
    "def intersectionAlignGensim(m1,m2, words=None):\n",
    "    \"\"\"\n",
    "    Intersect two gensim word2vec models, m1 and m2.\n",
    "    Only the shared vocabulary between them is kept.\n",
    "    If 'words' is set (as list or set), then the vocabulary is intersected with this list as well.\n",
    "    Indices are re-organized from 0..N in order of descending frequency (=sum of counts from both m1 and m2).\n",
    "    These indices correspond to the new syn0 and syn0norm objects in both gensim models:\n",
    "        -- so that Row 0 of m1.syn0 will be for the same word as Row 0 of m2.syn0\n",
    "        -- you can find the index of any word on the .index2word list: model.index2word.index(word) => 2\n",
    "    The .vocab dictionary is also updated for each model, preserving the count but updating the index.\n",
    "    \"\"\"\n",
    "\n",
    "    # Get the vocab for each model\n",
    "    vocab_m1 = set(m1.wv.vocab.keys())\n",
    "    vocab_m2 = set(m2.wv.vocab.keys())\n",
    "\n",
    "    # Find the common vocabulary\n",
    "    common_vocab = vocab_m1&vocab_m2\n",
    "    if words: common_vocab&=set(words)\n",
    "\n",
    "    # If no alignment necessary because vocab is identical...\n",
    "    if not vocab_m1-common_vocab and not vocab_m2-common_vocab:\n",
    "        return (m1,m2)\n",
    "\n",
    "    # Otherwise sort by frequency (summed for both)\n",
    "    common_vocab = list(common_vocab)\n",
    "    common_vocab.sort(key=lambda w: m1.wv.vocab[w].count + m2.wv.vocab[w].count,reverse=True)\n",
    "\n",
    "    # Then for each model...\n",
    "    for m in [m1,m2]:\n",
    "        # Replace old syn0norm array with new one (with common vocab)\n",
    "        indices = [m.wv.vocab[w].index for w in common_vocab]\n",
    "        old_arr = calcSynNorm(m)\n",
    "        new_arr = np.array([old_arr[index] for index in indices])\n",
    "        m.wv.syn0norm = m.wv.syn0 = new_arr\n",
    "\n",
    "        # Replace old vocab dictionary with new one (with common vocab)\n",
    "        # and old index2word with new one\n",
    "        m.index2word = common_vocab\n",
    "        old_vocab = m.wv.vocab\n",
    "        new_vocab = {}\n",
    "        for new_index,word in enumerate(common_vocab):\n",
    "            old_vocab_obj=old_vocab[word]\n",
    "            new_vocab[word] = gensim.models.word2vec.Vocab(index=new_index, count=old_vocab_obj.count)\n",
    "        m.wv.vocab = new_vocab\n",
    "\n",
    "    return (m1,m2)"
   ]
  },
  {
   "cell_type": "code",
   "execution_count": null,
   "metadata": {},
   "outputs": [],
   "source": [
    "def compareModels(df, category, sort = True):\n",
    "    \"\"\"If you are using time as your category sorting is important\"\"\"\n",
    "    embeddings_raw = {}\n",
    "    cats = sorted(set(df[category]))\n",
    "    for cat in cats:\n",
    "        #This can take a while\n",
    "        print(\"Embedding {}\".format(cat), end = '\\r')\n",
    "        subsetDF = df[df[category] == cat]\n",
    "        #You might want to change the W2V parameters\n",
    "        embeddings_raw[cat] = gensim.models.word2vec.Word2Vec(subsetDF['normalized_sents'].sum())\n",
    "    #These are much quicker\n",
    "    embeddings_aligned = {}\n",
    "    for catOuter in cats:\n",
    "        embeddings_aligned[catOuter] = [embeddings_raw[catOuter]]\n",
    "        for catInner in cats:\n",
    "            embeddings_aligned[catOuter].append(smartProcrustesAlignGensim(embeddings_aligned[catOuter][-1], embeddings_raw[catInner]))\n",
    "    return embeddings_raw, embeddings_aligned"
   ]
  },
  {
   "cell_type": "code",
   "execution_count": null,
   "metadata": {},
   "outputs": [],
   "source": [
    "opinionDF = copy.deepcopy(scDF_issue)\n",
    "opinionDF['year'] = opinionDF.decision_date.year\n",
    "rawEmbeddings, comparedEmbeddings = compareModels(opinionDF, 'year')"
   ]
  },
  {
   "cell_type": "code",
   "execution_count": null,
   "metadata": {},
   "outputs": [],
   "source": [
    "def getDivergenceDF(word, embeddingsDict):\n",
    "    dists = []\n",
    "    cats = sorted(set(embeddingsDict.keys()))\n",
    "    dists = {}\n",
    "    for cat in cats:\n",
    "        dists[cat] = []\n",
    "        for embed in embeddingsDict[cat][1:]:\n",
    "            dists[cat].append(np.abs(1 - sklearn.metrics.pairwise.cosine_similarity(embeddingsDict[cat][0][word],\n",
    "                                                                             embed[word])[0,0]))\n",
    "    return pandas.DataFrame(dists, index = cats)"
   ]
  },
  {
   "cell_type": "code",
   "execution_count": null,
   "metadata": {},
   "outputs": [],
   "source": [
    "targetWord = 'abortion'\n",
    "\n",
    "pltDF = getDivergenceDF(targetWord, comparedEmbeddings)\n",
    "fig, ax = plt.subplots(figsize = (15, 7))\n",
    "seaborn.heatmap(pltDF, ax = ax, annot = False) #set annot True for a lot more information\n",
    "ax.set_xlabel(\"Starting year\")\n",
    "ax.set_ylabel(\"Final year\")\n",
    "ax.set_ylabel(\"Final year\")\n",
    "ax.set_title(\"Yearly linguistic change for: '{}'\".format(targetWord))\n",
    "plt.show()"
   ]
  },
  {
   "cell_type": "code",
   "execution_count": null,
   "metadata": {},
   "outputs": [],
   "source": [
    "def findDiverence(word, embeddingsDict):\n",
    "    cats = sorted(set(embeddingsDict.keys()))\n",
    "    \n",
    "    dists = []\n",
    "    for embed in embeddingsDict[cats[0]][1:]:\n",
    "        dists.append(1 - sklearn.metrics.pairwise.cosine_similarity(embeddingsDict[cats[0]][0][word], embed[word])[0,0])\n",
    "    return sum(dists)\n",
    "\n",
    "def findMostDivergent(embeddingsDict):\n",
    "    words = []\n",
    "    for embeds in embeddingsDict.values():\n",
    "        for embed in embeds:\n",
    "            words += list(embed.wv.vocab.keys())\n",
    "    words = set(words)\n",
    "    print(\"Found {} words to compare\".format(len(words)))\n",
    "    return sorted([(w, findDiverence(w, embeddingsDict)) for w in words], key = lambda x: x[1], reverse=True)"
   ]
  },
  {
   "cell_type": "code",
   "execution_count": null,
   "metadata": {},
   "outputs": [],
   "source": [
    "wordDivergences = findMostDivergent(comparedEmbeddings)"
   ]
  },
  {
   "cell_type": "markdown",
   "metadata": {},
   "source": [
    "### Most Divergent"
   ]
  },
  {
   "cell_type": "code",
   "execution_count": null,
   "metadata": {},
   "outputs": [],
   "source": [
    "wordDivergences[:10]"
   ]
  },
  {
   "cell_type": "code",
   "execution_count": null,
   "metadata": {},
   "outputs": [],
   "source": [
    "targetWord = wordDivergences[0][0]\n",
    "\n",
    "pltDF = getDivergenceDF(targetWord, comparedEmbeddings)\n",
    "fig, ax = plt.subplots(figsize = (10, 7))\n",
    "seaborn.heatmap(pltDF, ax = ax, annot = False) #set annot True for a lot more information\n",
    "ax.set_xlabel(\"Starting year\")\n",
    "ax.set_ylabel(\"Final year\")\n",
    "ax.set_ylabel(\"Final year\")\n",
    "ax.set_title(\"Yearly linguistic change for: '{}'\".format(targetWord))\n",
    "plt.show()"
   ]
  },
  {
   "cell_type": "markdown",
   "metadata": {},
   "source": [
    "### Least Divergent"
   ]
  },
  {
   "cell_type": "code",
   "execution_count": null,
   "metadata": {},
   "outputs": [],
   "source": [
    "wordDivergences[-10:]"
   ]
  },
  {
   "cell_type": "code",
   "execution_count": null,
   "metadata": {},
   "outputs": [],
   "source": [
    "targetWord = wordDivergences[-1][0]\n",
    "\n",
    "pltDF = getDivergenceDF(targetWord, comparedEmbeddings)\n",
    "fig, ax = plt.subplots(figsize = (10, 7))\n",
    "seaborn.heatmap(pltDF, ax = ax, annot = False) #set annot True for a lot more information\n",
    "ax.set_xlabel(\"Starting year\")\n",
    "ax.set_ylabel(\"Final year\")\n",
    "ax.set_ylabel(\"Final year\")\n",
    "ax.set_title(\"Yearly linguistic change for: '{}'\".format(targetWord))\n",
    "plt.show()"
   ]
  }
 ],
 "metadata": {
  "kernelspec": {
   "display_name": "Python 3",
   "language": "python",
   "name": "python3"
  },
  "language_info": {
   "codemirror_mode": {
    "name": "ipython",
    "version": 3
   },
   "file_extension": ".py",
   "mimetype": "text/x-python",
   "name": "python",
   "nbconvert_exporter": "python",
   "pygments_lexer": "ipython3",
   "version": "3.6.7"
  }
 },
 "nbformat": 4,
 "nbformat_minor": 2
}
